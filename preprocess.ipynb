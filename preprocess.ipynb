# Verifying EEG data

from mne.io import read_raw_edf
import numpy as np
import pandas as pd

%matplotlib notebook

foo = read_raw_edf('./data/trauma/00b2d6e257e2f615.edf')
