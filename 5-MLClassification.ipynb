{
 "cells": [
  {
   "cell_type": "markdown",
   "metadata": {
    "id": "xOC6V8JyR54h"
   },
   "source": [
    "# Machine Learning Pipeline \n",
    "\n",
    "** Build ML model with cross-validation to classify brain injury from EEG.**\n",
    "\n",
    "* Testing models:\n",
    "\n",
    "    * Random Forest\n",
    "    * Linear SVM model\n",
    "    * Gausian Naive Bayes\n",
    "\n",
    "* Models with Cross-validation"
   ]
  },
  {
   "cell_type": "code",
   "execution_count": 1,
   "metadata": {},
   "outputs": [],
   "source": [
    "# import comet_ml at the top of your file\n",
    "from comet_ml import Experiment"
   ]
  },
  {
   "cell_type": "code",
   "execution_count": 2,
   "metadata": {
    "id": "W7FiCYqOR54j"
   },
   "outputs": [],
   "source": [
    "import pandas as pd\n",
    "import numpy as np\n",
    "import matplotlib.pyplot as plt\n",
    "import seaborn as sns\n",
    "\n",
    "from sklearn.model_selection import train_test_split, GridSearchCV, cross_val_predict, cross_val_score\n",
    "from sklearn.preprocessing import StandardScaler\n",
    "from sklearn.metrics import roc_auc_score, accuracy_score, confusion_matrix\n",
    "from sklearn.ensemble import RandomForestClassifier\n",
    "from sklearn.naive_bayes import GaussianNB\n",
    "from sklearn.svm import SVC\n",
    "\n",
    "from imblearn.ensemble import BalancedRandomForestClassifier\n",
    "from imblearn.metrics import sensitivity_score, specificity_score\n",
    "\n",
    "import warnings\n",
    "warnings.filterwarnings('ignore')"
   ]
  },
  {
   "cell_type": "code",
   "execution_count": 3,
   "metadata": {},
   "outputs": [],
   "source": [
    "data_all = pd.read_csv('../mldataset/allfeatures.csv')\n",
    "data_ml = pd.read_csv('../mldataset/featuresML.csv')\n",
    "data_pval = pd.read_csv('../mldataset/featuresPVAL.csv')\n",
    "data_inter = pd.read_csv('../mldataset/featuresINTER.csv')"
   ]
  },
  {
   "cell_type": "code",
   "execution_count": 4,
   "metadata": {
    "id": "I3Char8kejSR"
   },
   "outputs": [
    {
     "data": {
      "text/html": [
       "<div>\n",
       "<style scoped>\n",
       "    .dataframe tbody tr th:only-of-type {\n",
       "        vertical-align: middle;\n",
       "    }\n",
       "\n",
       "    .dataframe tbody tr th {\n",
       "        vertical-align: top;\n",
       "    }\n",
       "\n",
       "    .dataframe thead th {\n",
       "        text-align: right;\n",
       "    }\n",
       "</style>\n",
       "<table border=\"1\" class=\"dataframe\">\n",
       "  <thead>\n",
       "    <tr style=\"text-align: right;\">\n",
       "      <th></th>\n",
       "      <th>coh_nofilt_fp1_fp2</th>\n",
       "      <th>coh_nofilt_fp1_f7</th>\n",
       "      <th>coh_nofilt_fp1_f3</th>\n",
       "      <th>coh_nofilt_fp1_fz</th>\n",
       "      <th>coh_nofilt_fp1_f4</th>\n",
       "      <th>coh_nofilt_fp1_f8</th>\n",
       "      <th>coh_nofilt_fp1_t3</th>\n",
       "      <th>coh_nofilt_fp1_c3</th>\n",
       "      <th>coh_nofilt_fp1_c4</th>\n",
       "      <th>coh_nofilt_fp1_t4</th>\n",
       "      <th>...</th>\n",
       "      <th>psi_alpha_o2_t3</th>\n",
       "      <th>psi_alpha_o2_c3</th>\n",
       "      <th>psi_alpha_o2_c4</th>\n",
       "      <th>psi_alpha_o2_t4</th>\n",
       "      <th>psi_alpha_o2_t5</th>\n",
       "      <th>psi_alpha_o2_p3</th>\n",
       "      <th>psi_alpha_o2_pz</th>\n",
       "      <th>psi_alpha_o2_p4</th>\n",
       "      <th>psi_alpha_o2_t6</th>\n",
       "      <th>psi_alpha_o2_o1</th>\n",
       "    </tr>\n",
       "  </thead>\n",
       "  <tbody>\n",
       "    <tr>\n",
       "      <th>0</th>\n",
       "      <td>0.849397</td>\n",
       "      <td>0.877339</td>\n",
       "      <td>0.857365</td>\n",
       "      <td>0.864015</td>\n",
       "      <td>0.795604</td>\n",
       "      <td>0.715263</td>\n",
       "      <td>0.611386</td>\n",
       "      <td>0.674974</td>\n",
       "      <td>0.672999</td>\n",
       "      <td>0.609560</td>\n",
       "      <td>...</td>\n",
       "      <td>1.137330</td>\n",
       "      <td>-2.535512</td>\n",
       "      <td>2.851893</td>\n",
       "      <td>-2.413355</td>\n",
       "      <td>-7.886247</td>\n",
       "      <td>-3.430358</td>\n",
       "      <td>-2.940278</td>\n",
       "      <td>4.755336</td>\n",
       "      <td>-2.372887</td>\n",
       "      <td>-6.151342</td>\n",
       "    </tr>\n",
       "    <tr>\n",
       "      <th>1</th>\n",
       "      <td>0.682347</td>\n",
       "      <td>0.795053</td>\n",
       "      <td>0.775378</td>\n",
       "      <td>0.657702</td>\n",
       "      <td>0.641092</td>\n",
       "      <td>0.713337</td>\n",
       "      <td>0.647718</td>\n",
       "      <td>0.536908</td>\n",
       "      <td>0.380917</td>\n",
       "      <td>0.541196</td>\n",
       "      <td>...</td>\n",
       "      <td>-0.069698</td>\n",
       "      <td>-0.223584</td>\n",
       "      <td>2.826703</td>\n",
       "      <td>-5.645081</td>\n",
       "      <td>-0.023241</td>\n",
       "      <td>-0.928270</td>\n",
       "      <td>1.025139</td>\n",
       "      <td>2.125412</td>\n",
       "      <td>0.000000</td>\n",
       "      <td>-0.129469</td>\n",
       "    </tr>\n",
       "    <tr>\n",
       "      <th>2</th>\n",
       "      <td>0.897231</td>\n",
       "      <td>0.847988</td>\n",
       "      <td>0.861601</td>\n",
       "      <td>0.828406</td>\n",
       "      <td>0.752612</td>\n",
       "      <td>0.744819</td>\n",
       "      <td>0.581250</td>\n",
       "      <td>0.791440</td>\n",
       "      <td>0.517047</td>\n",
       "      <td>0.518814</td>\n",
       "      <td>...</td>\n",
       "      <td>5.719148</td>\n",
       "      <td>4.841813</td>\n",
       "      <td>-4.843460</td>\n",
       "      <td>-2.764540</td>\n",
       "      <td>-1.046704</td>\n",
       "      <td>-2.972760</td>\n",
       "      <td>-6.569496</td>\n",
       "      <td>-2.928576</td>\n",
       "      <td>-0.443500</td>\n",
       "      <td>-0.663475</td>\n",
       "    </tr>\n",
       "    <tr>\n",
       "      <th>3</th>\n",
       "      <td>0.755840</td>\n",
       "      <td>0.844175</td>\n",
       "      <td>0.833709</td>\n",
       "      <td>0.886321</td>\n",
       "      <td>0.793390</td>\n",
       "      <td>0.741746</td>\n",
       "      <td>0.808783</td>\n",
       "      <td>0.861057</td>\n",
       "      <td>0.766067</td>\n",
       "      <td>0.809645</td>\n",
       "      <td>...</td>\n",
       "      <td>1.910294</td>\n",
       "      <td>0.064580</td>\n",
       "      <td>1.450907</td>\n",
       "      <td>-1.034041</td>\n",
       "      <td>-0.911907</td>\n",
       "      <td>-1.693191</td>\n",
       "      <td>-1.263543</td>\n",
       "      <td>-3.622760</td>\n",
       "      <td>-2.166221</td>\n",
       "      <td>1.226381</td>\n",
       "    </tr>\n",
       "    <tr>\n",
       "      <th>4</th>\n",
       "      <td>0.639640</td>\n",
       "      <td>0.906704</td>\n",
       "      <td>0.887078</td>\n",
       "      <td>0.892046</td>\n",
       "      <td>0.588968</td>\n",
       "      <td>0.631242</td>\n",
       "      <td>0.710337</td>\n",
       "      <td>0.635790</td>\n",
       "      <td>0.448039</td>\n",
       "      <td>0.564691</td>\n",
       "      <td>...</td>\n",
       "      <td>2.343783</td>\n",
       "      <td>-0.019518</td>\n",
       "      <td>-0.481569</td>\n",
       "      <td>1.608233</td>\n",
       "      <td>0.394639</td>\n",
       "      <td>0.247216</td>\n",
       "      <td>0.442689</td>\n",
       "      <td>0.863781</td>\n",
       "      <td>-0.006938</td>\n",
       "      <td>-0.153289</td>\n",
       "    </tr>\n",
       "    <tr>\n",
       "      <th>...</th>\n",
       "      <td>...</td>\n",
       "      <td>...</td>\n",
       "      <td>...</td>\n",
       "      <td>...</td>\n",
       "      <td>...</td>\n",
       "      <td>...</td>\n",
       "      <td>...</td>\n",
       "      <td>...</td>\n",
       "      <td>...</td>\n",
       "      <td>...</td>\n",
       "      <td>...</td>\n",
       "      <td>...</td>\n",
       "      <td>...</td>\n",
       "      <td>...</td>\n",
       "      <td>...</td>\n",
       "      <td>...</td>\n",
       "      <td>...</td>\n",
       "      <td>...</td>\n",
       "      <td>...</td>\n",
       "      <td>...</td>\n",
       "      <td>...</td>\n",
       "    </tr>\n",
       "    <tr>\n",
       "      <th>180</th>\n",
       "      <td>0.396877</td>\n",
       "      <td>0.656498</td>\n",
       "      <td>0.576064</td>\n",
       "      <td>0.494556</td>\n",
       "      <td>0.420211</td>\n",
       "      <td>0.428643</td>\n",
       "      <td>0.563125</td>\n",
       "      <td>0.661773</td>\n",
       "      <td>0.500596</td>\n",
       "      <td>0.401992</td>\n",
       "      <td>...</td>\n",
       "      <td>-134.552255</td>\n",
       "      <td>-148.020175</td>\n",
       "      <td>-174.643489</td>\n",
       "      <td>-128.884761</td>\n",
       "      <td>-141.926243</td>\n",
       "      <td>-110.660944</td>\n",
       "      <td>-153.216632</td>\n",
       "      <td>-11.502160</td>\n",
       "      <td>-156.376620</td>\n",
       "      <td>-173.192321</td>\n",
       "    </tr>\n",
       "    <tr>\n",
       "      <th>181</th>\n",
       "      <td>0.462236</td>\n",
       "      <td>0.467286</td>\n",
       "      <td>0.384045</td>\n",
       "      <td>0.431943</td>\n",
       "      <td>0.400531</td>\n",
       "      <td>0.356827</td>\n",
       "      <td>0.378937</td>\n",
       "      <td>0.367412</td>\n",
       "      <td>0.380954</td>\n",
       "      <td>0.357517</td>\n",
       "      <td>...</td>\n",
       "      <td>-15.981099</td>\n",
       "      <td>-18.816348</td>\n",
       "      <td>-18.183475</td>\n",
       "      <td>-11.601831</td>\n",
       "      <td>-7.541968</td>\n",
       "      <td>-16.935812</td>\n",
       "      <td>-17.919610</td>\n",
       "      <td>-14.430107</td>\n",
       "      <td>-6.426578</td>\n",
       "      <td>-7.388289</td>\n",
       "    </tr>\n",
       "    <tr>\n",
       "      <th>182</th>\n",
       "      <td>0.833737</td>\n",
       "      <td>0.924463</td>\n",
       "      <td>0.834045</td>\n",
       "      <td>0.797401</td>\n",
       "      <td>0.716631</td>\n",
       "      <td>0.788221</td>\n",
       "      <td>0.774200</td>\n",
       "      <td>0.666065</td>\n",
       "      <td>0.550072</td>\n",
       "      <td>0.700391</td>\n",
       "      <td>...</td>\n",
       "      <td>5.923263</td>\n",
       "      <td>7.676919</td>\n",
       "      <td>19.279992</td>\n",
       "      <td>37.209661</td>\n",
       "      <td>3.557597</td>\n",
       "      <td>3.770691</td>\n",
       "      <td>4.755026</td>\n",
       "      <td>0.985402</td>\n",
       "      <td>3.500394</td>\n",
       "      <td>0.911847</td>\n",
       "    </tr>\n",
       "    <tr>\n",
       "      <th>183</th>\n",
       "      <td>0.611631</td>\n",
       "      <td>0.875651</td>\n",
       "      <td>0.906435</td>\n",
       "      <td>0.882049</td>\n",
       "      <td>0.470444</td>\n",
       "      <td>0.513214</td>\n",
       "      <td>0.730145</td>\n",
       "      <td>0.792010</td>\n",
       "      <td>0.396715</td>\n",
       "      <td>0.473648</td>\n",
       "      <td>...</td>\n",
       "      <td>-26.785091</td>\n",
       "      <td>51.345199</td>\n",
       "      <td>-32.453846</td>\n",
       "      <td>-37.773608</td>\n",
       "      <td>70.624488</td>\n",
       "      <td>-18.838973</td>\n",
       "      <td>-11.220369</td>\n",
       "      <td>-21.244065</td>\n",
       "      <td>-10.816045</td>\n",
       "      <td>-16.059869</td>\n",
       "    </tr>\n",
       "    <tr>\n",
       "      <th>184</th>\n",
       "      <td>0.826434</td>\n",
       "      <td>0.938470</td>\n",
       "      <td>0.894640</td>\n",
       "      <td>0.811305</td>\n",
       "      <td>0.745705</td>\n",
       "      <td>0.788262</td>\n",
       "      <td>0.724616</td>\n",
       "      <td>0.715154</td>\n",
       "      <td>0.539488</td>\n",
       "      <td>0.708726</td>\n",
       "      <td>...</td>\n",
       "      <td>0.775611</td>\n",
       "      <td>0.600841</td>\n",
       "      <td>1.936752</td>\n",
       "      <td>1.110975</td>\n",
       "      <td>0.229006</td>\n",
       "      <td>-2.177461</td>\n",
       "      <td>-2.782196</td>\n",
       "      <td>2.251717</td>\n",
       "      <td>0.109154</td>\n",
       "      <td>-0.481069</td>\n",
       "    </tr>\n",
       "  </tbody>\n",
       "</table>\n",
       "<p>185 rows × 1451 columns</p>\n",
       "</div>"
      ],
      "text/plain": [
       "     coh_nofilt_fp1_fp2  coh_nofilt_fp1_f7  coh_nofilt_fp1_f3  \\\n",
       "0              0.849397           0.877339           0.857365   \n",
       "1              0.682347           0.795053           0.775378   \n",
       "2              0.897231           0.847988           0.861601   \n",
       "3              0.755840           0.844175           0.833709   \n",
       "4              0.639640           0.906704           0.887078   \n",
       "..                  ...                ...                ...   \n",
       "180            0.396877           0.656498           0.576064   \n",
       "181            0.462236           0.467286           0.384045   \n",
       "182            0.833737           0.924463           0.834045   \n",
       "183            0.611631           0.875651           0.906435   \n",
       "184            0.826434           0.938470           0.894640   \n",
       "\n",
       "     coh_nofilt_fp1_fz  coh_nofilt_fp1_f4  coh_nofilt_fp1_f8  \\\n",
       "0             0.864015           0.795604           0.715263   \n",
       "1             0.657702           0.641092           0.713337   \n",
       "2             0.828406           0.752612           0.744819   \n",
       "3             0.886321           0.793390           0.741746   \n",
       "4             0.892046           0.588968           0.631242   \n",
       "..                 ...                ...                ...   \n",
       "180           0.494556           0.420211           0.428643   \n",
       "181           0.431943           0.400531           0.356827   \n",
       "182           0.797401           0.716631           0.788221   \n",
       "183           0.882049           0.470444           0.513214   \n",
       "184           0.811305           0.745705           0.788262   \n",
       "\n",
       "     coh_nofilt_fp1_t3  coh_nofilt_fp1_c3  coh_nofilt_fp1_c4  \\\n",
       "0             0.611386           0.674974           0.672999   \n",
       "1             0.647718           0.536908           0.380917   \n",
       "2             0.581250           0.791440           0.517047   \n",
       "3             0.808783           0.861057           0.766067   \n",
       "4             0.710337           0.635790           0.448039   \n",
       "..                 ...                ...                ...   \n",
       "180           0.563125           0.661773           0.500596   \n",
       "181           0.378937           0.367412           0.380954   \n",
       "182           0.774200           0.666065           0.550072   \n",
       "183           0.730145           0.792010           0.396715   \n",
       "184           0.724616           0.715154           0.539488   \n",
       "\n",
       "     coh_nofilt_fp1_t4  ...  psi_alpha_o2_t3  psi_alpha_o2_c3  \\\n",
       "0             0.609560  ...         1.137330        -2.535512   \n",
       "1             0.541196  ...        -0.069698        -0.223584   \n",
       "2             0.518814  ...         5.719148         4.841813   \n",
       "3             0.809645  ...         1.910294         0.064580   \n",
       "4             0.564691  ...         2.343783        -0.019518   \n",
       "..                 ...  ...              ...              ...   \n",
       "180           0.401992  ...      -134.552255      -148.020175   \n",
       "181           0.357517  ...       -15.981099       -18.816348   \n",
       "182           0.700391  ...         5.923263         7.676919   \n",
       "183           0.473648  ...       -26.785091        51.345199   \n",
       "184           0.708726  ...         0.775611         0.600841   \n",
       "\n",
       "     psi_alpha_o2_c4  psi_alpha_o2_t4  psi_alpha_o2_t5  psi_alpha_o2_p3  \\\n",
       "0           2.851893        -2.413355        -7.886247        -3.430358   \n",
       "1           2.826703        -5.645081        -0.023241        -0.928270   \n",
       "2          -4.843460        -2.764540        -1.046704        -2.972760   \n",
       "3           1.450907        -1.034041        -0.911907        -1.693191   \n",
       "4          -0.481569         1.608233         0.394639         0.247216   \n",
       "..               ...              ...              ...              ...   \n",
       "180      -174.643489      -128.884761      -141.926243      -110.660944   \n",
       "181       -18.183475       -11.601831        -7.541968       -16.935812   \n",
       "182        19.279992        37.209661         3.557597         3.770691   \n",
       "183       -32.453846       -37.773608        70.624488       -18.838973   \n",
       "184         1.936752         1.110975         0.229006        -2.177461   \n",
       "\n",
       "     psi_alpha_o2_pz  psi_alpha_o2_p4  psi_alpha_o2_t6  psi_alpha_o2_o1  \n",
       "0          -2.940278         4.755336        -2.372887        -6.151342  \n",
       "1           1.025139         2.125412         0.000000        -0.129469  \n",
       "2          -6.569496        -2.928576        -0.443500        -0.663475  \n",
       "3          -1.263543        -3.622760        -2.166221         1.226381  \n",
       "4           0.442689         0.863781        -0.006938        -0.153289  \n",
       "..               ...              ...              ...              ...  \n",
       "180      -153.216632       -11.502160      -156.376620      -173.192321  \n",
       "181       -17.919610       -14.430107        -6.426578        -7.388289  \n",
       "182         4.755026         0.985402         3.500394         0.911847  \n",
       "183       -11.220369       -21.244065       -10.816045       -16.059869  \n",
       "184        -2.782196         2.251717         0.109154        -0.481069  \n",
       "\n",
       "[185 rows x 1451 columns]"
      ]
     },
     "execution_count": 4,
     "metadata": {},
     "output_type": "execute_result"
    }
   ],
   "source": [
    "data_all"
   ]
  },
  {
   "cell_type": "code",
   "execution_count": 5,
   "metadata": {
    "colab": {
     "base_uri": "https://localhost:8080/",
     "height": 424
    },
    "id": "QlXDE4O0fDel",
    "outputId": "858ac85f-37f3-4bd1-b1e4-4e7926d09ad3"
   },
   "outputs": [
    {
     "name": "stdout",
     "output_type": "stream",
     "text": [
      "(185, 31)\n"
     ]
    },
    {
     "data": {
      "text/plain": [
       "Index(['coh_nofilt_fp1_f3', 'coh_nofilt_fp2_pz', 'coh_nofilt_f7_t3',\n",
       "       'coh_nofilt_t3_c3', 'coh_beta_fp1_f3', 'coh_beta_fp2_o2',\n",
       "       'coh_beta_f7_t3', 'coh_beta_f8_t4', 'coh_beta_t3_c3', 'coh_beta_t3_t5',\n",
       "       'coh_theta_f7_o2', 'env_nofilt_f7_c3', 'env_nofilt_t3_c3',\n",
       "       'env_nofilt_t3_p4', 'env_nofilt_c3_t4', 'env_nofilt_p4_o2',\n",
       "       'env_alpha_t3_t5', 'env_beta_fp1_f3', 'env_beta_t3_c3',\n",
       "       'env_beta_t3_c4', 'env_beta_t3_t4', 'env_theta_t3_c4',\n",
       "       'env_theta_c3_t4', 'bands_beta_f8', 'bands_theta_f8', 'bands_beta_t3',\n",
       "       'bands_gamma_t3', 'bands_beta_t4', 'psi_alpha_fz_fp1', 'fn', 'target'],\n",
       "      dtype='object')"
      ]
     },
     "execution_count": 5,
     "metadata": {},
     "output_type": "execute_result"
    }
   ],
   "source": [
    "print(data_ml.shape)\n",
    "data_ml.columns"
   ]
  },
  {
   "cell_type": "code",
   "execution_count": 6,
   "metadata": {},
   "outputs": [
    {
     "name": "stdout",
     "output_type": "stream",
     "text": [
      "(185, 28)\n"
     ]
    },
    {
     "data": {
      "text/plain": [
       "Index(['coh_nofilt_fp1_c4', 'coh_nofilt_fp2_c3', 'coh_nofilt_f4_f8',\n",
       "       'coh_nofilt_f8_t4', 'coh_nofilt_t4_p4', 'coh_nofilt_t4_t6',\n",
       "       'coh_nofilt_t5_p3', 'coh_nofilt_t5_o1', 'coh_nofilt_p4_t6',\n",
       "       'coh_alpha_fp2_pz', 'coh_alpha_f8_t4', 'coh_alpha_t3_c3',\n",
       "       'coh_alpha_t3_p4', 'coh_alpha_t5_p3', 'coh_alpha_t5_o1',\n",
       "       'coh_alpha_pz_p4', 'coh_alpha_pz_o2', 'coh_theta_f3_t3',\n",
       "       'env_nofilt_fp1_t4', 'env_nofilt_f4_c4', 'env_nofilt_f8_c4',\n",
       "       'env_nofilt_f8_t4', 'env_beta_fp1_c4', 'env_beta_fp2_t5',\n",
       "       'bands_gamma_fp1', 'bands_beta_t3', 'psi_alpha_fp2_fp1', 'fn'],\n",
       "      dtype='object')"
      ]
     },
     "execution_count": 6,
     "metadata": {},
     "output_type": "execute_result"
    }
   ],
   "source": [
    "print(data_pval.shape)\n",
    "data_pval.columns"
   ]
  },
  {
   "cell_type": "code",
   "execution_count": 7,
   "metadata": {},
   "outputs": [
    {
     "name": "stdout",
     "output_type": "stream",
     "text": [
      "(185, 8)\n"
     ]
    },
    {
     "data": {
      "text/plain": [
       "Index(['coh_nofilt_fp1_f7', 'coh_nofilt_f8_t4', 'env_nofilt_c4_t6',\n",
       "       'env_nofilt_t4_p4', 'env_beta_fp1_c4', 'bands_beta_t3', 'target', 'fn'],\n",
       "      dtype='object')"
      ]
     },
     "execution_count": 7,
     "metadata": {},
     "output_type": "execute_result"
    }
   ],
   "source": [
    "print(data_inter.shape)\n",
    "data_inter.columns"
   ]
  },
  {
   "cell_type": "markdown",
   "metadata": {},
   "source": [
    "# 1) Classification task using All features"
   ]
  },
  {
   "cell_type": "code",
   "execution_count": 8,
   "metadata": {},
   "outputs": [],
   "source": [
    "def rfc_grid(X,y, exp):\n",
    "\n",
    "    grid={'n_estimators':[10, 100, 300, 500], 'max_features': ['auto', 'sqrt', 'log2'],\"class_weight\":['none','balanced']}\n",
    "\n",
    "    rdf=RandomForestClassifier(random_state=101)\n",
    "\n",
    "    rdf_cv=GridSearchCV(rdf,grid,cv=10, n_jobs=-1)\n",
    "    rdf_cv.fit(X,y)\n",
    "\n",
    "    print(\"tuned hpyerparameters :(best parameters) \",rdf_cv.best_params_)\n",
    "    print(\"accuracy :\",rdf_cv.best_score_)\n",
    "\n",
    "    for i in range(len(rdf_cv.cv_results_['params'])):\n",
    "        for k,v in rdf_cv.cv_results_.items():\n",
    "            if k == \"params\":\n",
    "                exp.log_parameters(v[i])\n",
    "            else:\n",
    "                exp.log_metric(k,v[i])\n",
    "\n",
    "def svc_grid(X,y,exp):\n",
    "\n",
    "    grid={'C':[1,10, 100], 'kernel': ['linear','rbf'],\"class_weight\":['none','balanced']}\n",
    "\n",
    "    svc=SVC(random_state=101)\n",
    "\n",
    "    svc_cv=GridSearchCV(svc,grid,cv=10, n_jobs=-1)\n",
    "    svc_cv.fit(X,y)\n",
    "\n",
    "    print(\"tuned hpyerparameters :(best parameters) \",svc_cv.best_params_)\n",
    "    print(\"accuracy :\",svc_cv.best_score_)\n",
    "\n",
    "    for i in range(len(svc_cv.cv_results_['params'])):\n",
    "        for k,v in svc_cv.cv_results_.items():\n",
    "            if k == \"params\":\n",
    "                exp.log_parameters(v[i])\n",
    "            else:\n",
    "                exp.log_metric(k,v[i])\n",
    "                \n",
    "def cal_meth(model, X, X_train, X_test, y_train, y_test, exp, out):\n",
    "    \n",
    "    model.fit(X_train, y_train)\n",
    "\n",
    "    y_pred_trainp = cross_val_predict(model, X_train, y_train, method='predict_proba', cv=10)[:,1] \n",
    "    y_predp = cross_val_predict(model, X_test, y_test, method='predict_proba', cv=10)[:,1] \n",
    "    y_allp = cross_val_predict(model, X, y, method='predict_proba', cv=10)[:,1]\n",
    "    roc_train = roc_auc_score(y_train, y_pred_trainp)\n",
    "    roc_test = roc_auc_score(y_test, y_predp)\n",
    "    roc_all = roc_auc_score(y, y_allp)\n",
    "    print('ROC_AUC score train: ', roc_train)\n",
    "    print('ROC_AUC score test: ', roc_train)\n",
    "    print('ROC_AUC score all: ', roc_all)\n",
    "    \n",
    "    y_pred_train = cross_val_predict(model, X_train, y_train, method='predict', cv=10)\n",
    "    y_pred = cross_val_predict(model, X_test, y_test, method='predict', cv=10)\n",
    "    y_pall = cross_val_predict(model, X, y, method='predict', cv=10)\n",
    "    \n",
    "    acc_all = accuracy_score(y,y_pall)\n",
    "    print('accuracy for all: ', acc_all)\n",
    "    \n",
    "    sen_train = sensitivity_score(y_train, y_pred_train)\n",
    "    sen_test = sensitivity_score(y_test, y_pred)\n",
    "    sen_all = sensitivity_score(y, y_pall)\n",
    "    spe_train = specificity_score(y_train, y_pred_train)\n",
    "    spe_test = specificity_score(y_test, y_pred)\n",
    "    spe_all = specificity_score(y, y_pall)\n",
    "    print('Sensitivity for train: ', sen_train)\n",
    "    print('Sensitivity for test: ', sen_test)\n",
    "    print('Sensitivity for all: ', sen_all)\n",
    "    print('Specificity for train: ', spe_train)\n",
    "    print('Specificity for test: ', spe_test)\n",
    "    print('Specificity for all: ', spe_all)\n",
    "    conf = confusion_matrix(y_test, y_pred)\n",
    "    print('Confusion matrix')\n",
    "    print(confusion_matrix(y_test, y_pred))\n",
    "\n",
    "    #these will be logged to your sklearn-demos project on Comet.ml\n",
    "    params={\"random_state\":101,\n",
    "            \"model_type\":out,\n",
    "            \"scaler\":\"standard scaler\"}\n",
    "\n",
    "    metrics = {\"roc_auc_score\":roc_train,\n",
    "               \"accuracy_score\":acc_all,\n",
    "               \"sensitivity\":sen_train,\n",
    "               \"specificity\":spe_train}\n",
    "\n",
    "    exp.log_dataset_hash(X_train)\n",
    "    exp.log_parameters(params)\n",
    "    exp.log_metrics(metrics)\n",
    "    exp.log_confusion_matrix(matrix=conf, title='CM for {} model predictions'.format(out))\n",
    "\n",
    "def gnb_meth(X, X_train, X_test, y_train, y_test,exp,out):\n",
    "    \n",
    "    gnb = GaussianNB().fit(X_train, y_train) \n",
    "\n",
    "    y_pred_trainp = cross_val_predict(gnb, X_train, y_train, method='predict_proba', cv=10)[:,1] \n",
    "    y_predp = cross_val_predict(gnb, X_test, y_test, method='predict_proba', cv=10)[:,1] \n",
    "    y_allp = cross_val_predict(gnb, X, y, method='predict_proba', cv=10)[:,1]\n",
    "    roc_train = roc_auc_score(y_train, y_pred_trainp)\n",
    "    roc_test = roc_auc_score(y_test, y_predp)\n",
    "    roc_all = roc_auc_score(y, y_allp)\n",
    "    print('ROC_AUC score train: ', roc_train)\n",
    "    print('ROC_AUC score test: ', roc_train)\n",
    "    print('ROC_AUC score all: ', roc_all)\n",
    "\n",
    "    y_pred_train = cross_val_predict(gnb, X_train, y_train, method='predict', cv=10)\n",
    "    y_pred = cross_val_predict(gnb, X_test, y_test, method='predict', cv=10)\n",
    "    y_pall = cross_val_predict(gnb, X, y, method='predict', cv=10)\n",
    "    \n",
    "    acc_all = accuracy_score(y,y_pall)\n",
    "    print('accuracy for all: ', acc_all)\n",
    "    \n",
    "    sen_train = sensitivity_score(y_train, y_pred_train)\n",
    "    sen_test = sensitivity_score(y_test, y_pred)\n",
    "    sen_all = sensitivity_score(y, y_pall)\n",
    "    spe_train = specificity_score(y_train, y_pred_train)\n",
    "    spe_test = specificity_score(y_test, y_pred)\n",
    "    spe_all = specificity_score(y, y_pall)\n",
    "    print('Sensitivity for train: ', sen_train)\n",
    "    print('Sensitivity for test: ', sen_test)\n",
    "    print('Sensitivity for all: ', sen_all)\n",
    "    print('Specificity for train: ', spe_train)\n",
    "    print('Specificity for test: ', spe_test)\n",
    "    print('Specificity for all: ', spe_all)\n",
    "    conf = confusion_matrix(y_test, y_pred)\n",
    "    print('Confusion matrix')\n",
    "    print(confusion_matrix(y_test, y_pred))\n",
    "\n",
    "    #these will be logged to your sklearn-demos project on Comet.ml\n",
    "    params={\"model_type\":\"gnb\",\n",
    "            \"scaler\":\"standard scaler\"}\n",
    "\n",
    "    metrics = {\"roc_auc_score\":roc_train,\n",
    "               \"accuracy_score\":acc_all,\n",
    "               \"sensitivity\":sen_train,\n",
    "               \"specificity\":spe_train}\n",
    "\n",
    "    exp.log_dataset_hash(X_train_sc)\n",
    "    exp.log_metrics(metrics)\n",
    "    exp.log_confusion_matrix(matrix=conf, title='CM for {} model predictions'.format(out))"
   ]
  },
  {
   "cell_type": "code",
   "execution_count": 9,
   "metadata": {
    "id": "QCalUOKzfEUT"
   },
   "outputs": [],
   "source": [
    "data_all['target'] = data_all['target'].apply(lambda x: 0 if x=='healthy' else 1 if x=='trauma' else None)  \n",
    "X = data_all.drop(['fn','target'], axis=1)\n",
    "y = data_all.target"
   ]
  },
  {
   "cell_type": "code",
   "execution_count": 10,
   "metadata": {
    "id": "7pth9lSYfPsC"
   },
   "outputs": [],
   "source": [
    "X_train, X_test, y_train, y_test = train_test_split(X, y, test_size=0.3)\n",
    "\n",
    "scaler = StandardScaler()\n",
    "X_train_sc = scaler.fit_transform(X_train)\n",
    "X_test_sc = scaler.fit_transform(X_test)\n",
    "X_sc = scaler.fit_transform(X)"
   ]
  },
  {
   "cell_type": "code",
   "execution_count": 11,
   "metadata": {
    "colab": {
     "base_uri": "https://localhost:8080/",
     "height": 296
    },
    "id": "4JVxaDpefXmf",
    "outputId": "044a1411-add6-41d5-bb69-66963260f5a2"
   },
   "outputs": [
    {
     "data": {
      "text/plain": [
       "<matplotlib.axes._subplots.AxesSubplot at 0x7fe456573f60>"
      ]
     },
     "execution_count": 11,
     "metadata": {},
     "output_type": "execute_result"
    },
    {
     "data": {
      "image/png": "[encoded data removed]",
      "text/plain": [
       "<Figure size 576x288 with 2 Axes>"
      ]
     },
     "metadata": {},
     "output_type": "display_data"
    }
   ],
   "source": [
    "fig, axs = plt.subplots(1,2, figsize=[8,4])\n",
    "sns.countplot(y_train, ax=axs[0])\n",
    "sns.countplot(y_test, ax=axs[1])"
   ]
  },
  {
   "cell_type": "code",
   "execution_count": 12,
   "metadata": {},
   "outputs": [
    {
     "name": "stderr",
     "output_type": "stream",
     "text": [
      "COMET INFO: Experiment is live on comet.ml https://www.comet.ml/bfaria/eeg-trauma/f34d6a0d5b5f4ef9abf216a500043c10\n",
      "\n"
     ]
    },
    {
     "name": "stdout",
     "output_type": "stream",
     "text": [
      "tuned hpyerparameters :(best parameters)  {'class_weight': 'balanced', 'max_features': 'auto', 'n_estimators': 100}\n",
      "accuracy : 0.8134615384615383\n"
     ]
    }
   ],
   "source": [
    "exp1 = Experiment(api_key=\"MBGyCd1hOFVR5EcPbUFAX8MHV\", project_name=\"eeg-trauma\", workspace=\"bfaria\")\n",
    "\n",
    "rfc_grid(X_train_sc,y_train, exp1)"
   ]
  },
  {
   "cell_type": "code",
   "execution_count": 13,
   "metadata": {
    "id": "idetDzFmfbpA"
   },
   "outputs": [
    {
     "name": "stdout",
     "output_type": "stream",
     "text": [
      "ROC_AUC score train:  0.791077441077441\n",
      "ROC_AUC score test:  0.791077441077441\n",
      "ROC_AUC score all:  0.8206028680128769\n",
      "accuracy for all:  0.772972972972973\n",
      "Sensitivity for train:  0.26666666666666666\n",
      "Sensitivity for test:  0.7619047619047619\n",
      "Sensitivity for all:  0.43137254901960786\n",
      "Specificity for train:  0.9797979797979798\n",
      "Specificity for test:  0.9428571428571428\n",
      "Specificity for all:  0.9029850746268657\n",
      "Confusion matrix\n",
      "[[33  2]\n",
      " [ 5 16]]\n"
     ]
    }
   ],
   "source": [
    "rdf = RandomForestClassifier(max_features='auto', n_estimators=100, class_weight='balanced', random_state=101)\n",
    "cal_meth(rdf,X_sc,X_train_sc,X_test_sc,y_train,y_test, exp1, 'RFC')"
   ]
  },
  {
   "cell_type": "code",
   "execution_count": 14,
   "metadata": {},
   "outputs": [
    {
     "name": "stderr",
     "output_type": "stream",
     "text": [
      "COMET INFO: ---------------------------\n",
      "COMET INFO: Comet.ml Experiment Summary\n",
      "COMET INFO: ---------------------------\n",
      "COMET INFO:   Data:\n",
      "COMET INFO:     display_summary_level : 1\n",
      "COMET INFO:     url                   : https://www.comet.ml/bfaria/eeg-trauma/f34d6a0d5b5f4ef9abf216a500043c10\n",
      "COMET INFO:   Metrics [count] (min, max):\n",
      "COMET INFO:     accuracy_score          : 0.772972972972973\n",
      "COMET INFO:     mean_fit_time [24]      : (0.0035378456115722655, 1.4730758666992188)\n",
      "COMET INFO:     mean_score_time [24]    : (0.0, 0.0710367202758789)\n",
      "COMET INFO:     mean_test_score [24]    : (0.7826923076923076, 0.8134615384615383)\n",
      "COMET INFO:     param_class_weight [24] : balanced\n",
      "COMET INFO:     param_max_features [24] : log2\n",
      "COMET INFO:     param_n_estimators [24] : (10, 500)\n",
      "COMET INFO:     rank_test_score [24]    : (1, 24)\n",
      "COMET INFO:     roc_auc_score           : 0.791077441077441\n",
      "COMET INFO:     sensitivity             : 0.26666666666666666\n",
      "COMET INFO:     specificity             : 0.9797979797979798\n",
      "COMET INFO:     split0_test_score [24]  : (0.8461538461538461, 0.9230769230769231)\n",
      "COMET INFO:     split1_test_score [24]  : (0.6923076923076923, 0.8461538461538461)\n",
      "COMET INFO:     split2_test_score [24]  : (0.6923076923076923, 0.9230769230769231)\n",
      "COMET INFO:     split3_test_score [24]  : (0.7692307692307693, 0.9230769230769231)\n",
      "COMET INFO:     split4_test_score [24]  : (0.7692307692307693, 0.9230769230769231)\n",
      "COMET INFO:     split5_test_score [24]  : (0.8461538461538461, 0.9230769230769231)\n",
      "COMET INFO:     split6_test_score [24]  : (0.6923076923076923, 0.7692307692307693)\n",
      "COMET INFO:     split7_test_score [24]  : (0.6153846153846154, 0.6923076923076923)\n",
      "COMET INFO:     split8_test_score [24]  : (0.7692307692307693, 0.8461538461538461)\n",
      "COMET INFO:     split9_test_score [24]  : (0.6666666666666666, 0.75)\n",
      "COMET INFO:     std_fit_time [24]       : (0.00021282590277010683, 0.3616905105676686)\n",
      "COMET INFO:     std_score_time [24]     : (0.0, 0.016674901902907675)\n",
      "COMET INFO:     std_test_score [24]     : (0.050478479801564176, 0.09022080081338385)\n",
      "COMET INFO:   Parameters [count]:\n",
      "COMET INFO:     class_weight [2]  : balanced\n",
      "COMET INFO:     max_features [6]  : log2\n",
      "COMET INFO:     model_type        : RFC\n",
      "COMET INFO:     n_estimators [24] : 500\n",
      "COMET INFO:     random_state      : 101\n",
      "COMET INFO:     scaler            : standard scaler\n",
      "COMET INFO:   Uploads:\n",
      "COMET INFO:     confusion-matrix    : 1\n",
      "COMET INFO:     environment details : 1\n",
      "COMET INFO:     filename            : 1\n",
      "COMET INFO:     installed packages  : 1\n",
      "COMET INFO:     os packages         : 1\n",
      "COMET INFO: ---------------------------\n",
      "COMET INFO: Experiment is live on comet.ml https://www.comet.ml/bfaria/eeg-trauma/409deb69e2c045179582a87823b38d3f\n",
      "\n"
     ]
    },
    {
     "name": "stdout",
     "output_type": "stream",
     "text": [
      "tuned hpyerparameters :(best parameters)  {'C': 1, 'class_weight': 'balanced', 'kernel': 'rbf'}\n",
      "accuracy : 0.8057692307692307\n"
     ]
    }
   ],
   "source": [
    "exp2 = Experiment(api_key=\"MBGyCd1hOFVR5EcPbUFAX8MHV\", project_name=\"eeg-trauma\", workspace=\"bfaria\")\n",
    "\n",
    "svc_grid(X_train_sc,y_train, exp2)"
   ]
  },
  {
   "cell_type": "code",
   "execution_count": 15,
   "metadata": {},
   "outputs": [
    {
     "name": "stdout",
     "output_type": "stream",
     "text": [
      "ROC_AUC score train:  0.8356902356902357\n",
      "ROC_AUC score test:  0.8356902356902357\n",
      "ROC_AUC score all:  0.8379426397424641\n",
      "accuracy for all:  0.7945945945945946\n",
      "Sensitivity for train:  0.6666666666666666\n",
      "Sensitivity for test:  0.7142857142857143\n",
      "Sensitivity for all:  0.7843137254901961\n",
      "Specificity for train:  0.8484848484848485\n",
      "Specificity for test:  0.9142857142857143\n",
      "Specificity for all:  0.7985074626865671\n",
      "Confusion matrix\n",
      "[[32  3]\n",
      " [ 6 15]]\n"
     ]
    }
   ],
   "source": [
    "svc = SVC(C=1, kernel='rbf', class_weight='balanced', random_state=101, probability=True)\n",
    "cal_meth(svc,X_sc,X_train_sc,X_test_sc,y_train,y_test,exp2, 'SVC')"
   ]
  },
  {
   "cell_type": "code",
   "execution_count": 16,
   "metadata": {},
   "outputs": [
    {
     "name": "stderr",
     "output_type": "stream",
     "text": [
      "COMET INFO: ---------------------------\n",
      "COMET INFO: Comet.ml Experiment Summary\n",
      "COMET INFO: ---------------------------\n",
      "COMET INFO:   Data:\n",
      "COMET INFO:     display_summary_level : 1\n",
      "COMET INFO:     url                   : https://www.comet.ml/bfaria/eeg-trauma/409deb69e2c045179582a87823b38d3f\n",
      "COMET INFO:   Metrics [count] (min, max):\n",
      "COMET INFO:     accuracy_score          : 0.7945945945945946\n",
      "COMET INFO:     mean_fit_time [12]      : (0.00381622314453125, 0.048153924942016604)\n",
      "COMET INFO:     mean_score_time [12]    : (0.0, 0.004653310775756836)\n",
      "COMET INFO:     mean_test_score [12]    : (0.735897435897436, 0.8057692307692307)\n",
      "COMET INFO:     param_C [12]            : (1, 100)\n",
      "COMET INFO:     param_class_weight [12] : balanced\n",
      "COMET INFO:     param_kernel [12]       : rbf\n",
      "COMET INFO:     rank_test_score [12]    : (1, 12)\n",
      "COMET INFO:     roc_auc_score           : 0.8356902356902357\n",
      "COMET INFO:     sensitivity             : 0.6666666666666666\n",
      "COMET INFO:     specificity             : 0.8484848484848485\n",
      "COMET INFO:     split0_test_score [12]  : (0.6923076923076923, 0.8461538461538461)\n",
      "COMET INFO:     split1_test_score [12]  : (0.7692307692307693, 0.8461538461538461)\n",
      "COMET INFO:     split2_test_score [12]  : (0.8461538461538461, 0.9230769230769231)\n",
      "COMET INFO:     split3_test_score [12]  : (0.6923076923076923, 0.9230769230769231)\n",
      "COMET INFO:     split4_test_score [12]  : (0.7692307692307693, 0.9230769230769231)\n",
      "COMET INFO:     split5_test_score [12]  : 0.8461538461538461\n",
      "COMET INFO:     split6_test_score [12]  : (0.6153846153846154, 0.7692307692307693)\n",
      "COMET INFO:     split7_test_score [12]  : (0.5384615384615384, 0.6923076923076923)\n",
      "COMET INFO:     split8_test_score [12]  : (0.6923076923076923, 0.8461538461538461)\n",
      "COMET INFO:     split9_test_score [12]  : (0.6666666666666666, 0.75)\n",
      "COMET INFO:     std_fit_time [12]       : (0.00041111401894208886, 0.007087840298059776)\n",
      "COMET INFO:     std_score_time [12]     : (0.0, 0.0009297199306499855)\n",
      "COMET INFO:     std_test_score [12]     : (0.06774582674541746, 0.11095670566732045)\n",
      "COMET INFO:   Parameters [count]:\n",
      "COMET INFO:     C [3]            : 100\n",
      "COMET INFO:     class_weight [6] : balanced\n",
      "COMET INFO:     kernel [12]      : rbf\n",
      "COMET INFO:     model_type       : SVC\n",
      "COMET INFO:     random_state     : 101\n",
      "COMET INFO:     scaler           : standard scaler\n",
      "COMET INFO:   Uploads:\n",
      "COMET INFO:     confusion-matrix    : 1\n",
      "COMET INFO:     environment details : 1\n",
      "COMET INFO:     filename            : 1\n",
      "COMET INFO:     installed packages  : 1\n",
      "COMET INFO:     os packages         : 1\n",
      "COMET INFO: ---------------------------\n",
      "COMET INFO: Experiment is live on comet.ml https://www.comet.ml/bfaria/eeg-trauma/9590c974f4f24cedbfcd16119dcdec11\n",
      "\n"
     ]
    },
    {
     "name": "stdout",
     "output_type": "stream",
     "text": [
      "ROC_AUC score train:  0.6498316498316499\n",
      "ROC_AUC score test:  0.6498316498316499\n",
      "ROC_AUC score all:  0.6145741878841088\n",
      "accuracy for all:  0.5027027027027027\n",
      "Sensitivity for train:  0.8333333333333334\n",
      "Sensitivity for test:  0.7619047619047619\n",
      "Sensitivity for all:  0.8431372549019608\n",
      "Specificity for train:  0.42424242424242425\n",
      "Specificity for test:  0.7428571428571429\n",
      "Specificity for all:  0.373134328358209\n",
      "Confusion matrix\n",
      "[[26  9]\n",
      " [ 5 16]]\n"
     ]
    }
   ],
   "source": [
    "exp3 = Experiment(api_key=\"MBGyCd1hOFVR5EcPbUFAX8MHV\", project_name=\"eeg-trauma\", workspace=\"bfaria\")\n",
    "\n",
    "gnb_meth(X_sc, X_train_sc, X_test_sc, y_train, y_test,exp3, 'GNB')"
   ]
  },
  {
   "cell_type": "markdown",
   "metadata": {},
   "source": [
    "# 2) Classification task using Features from RFE"
   ]
  },
  {
   "cell_type": "code",
   "execution_count": 17,
   "metadata": {},
   "outputs": [],
   "source": [
    "data_ml['target'] = data_ml['target'].apply(lambda x: 0 if x=='healthy' else 1 if x=='trauma' else None)  \n",
    "X = data_ml.drop(['fn','target'], axis=1)\n",
    "y = data_ml.target"
   ]
  },
  {
   "cell_type": "code",
   "execution_count": 18,
   "metadata": {},
   "outputs": [],
   "source": [
    "X_train, X_test, y_train, y_test = train_test_split(X, y, test_size=0.3)\n",
    "\n",
    "scaler = StandardScaler()\n",
    "X_train_sc = scaler.fit_transform(X_train)\n",
    "X_test_sc = scaler.fit_transform(X_test)\n",
    "X_sc = scaler.fit_transform(X)"
   ]
  },
  {
   "cell_type": "code",
   "execution_count": 19,
   "metadata": {},
   "outputs": [
    {
     "data": {
      "text/plain": [
       "<matplotlib.axes._subplots.AxesSubplot at 0x7fe497c84e10>"
      ]
     },
     "execution_count": 19,
     "metadata": {},
     "output_type": "execute_result"
    },
    {
     "data": {
      "image/png": "[encoded data removed]",
      "text/plain": [
       "<Figure size 576x288 with 2 Axes>"
      ]
     },
     "metadata": {},
     "output_type": "display_data"
    }
   ],
   "source": [
    "fig, axs = plt.subplots(1,2, figsize=[8,4])\n",
    "sns.countplot(y_train, ax=axs[0])\n",
    "sns.countplot(y_test, ax=axs[1])"
   ]
  },
  {
   "cell_type": "code",
   "execution_count": 20,
   "metadata": {},
   "outputs": [
    {
     "name": "stderr",
     "output_type": "stream",
     "text": [
      "COMET INFO: ---------------------------\n",
      "COMET INFO: Comet.ml Experiment Summary\n",
      "COMET INFO: ---------------------------\n",
      "COMET INFO:   Data:\n",
      "COMET INFO:     display_summary_level : 1\n",
      "COMET INFO:     url                   : https://www.comet.ml/bfaria/eeg-trauma/9590c974f4f24cedbfcd16119dcdec11\n",
      "COMET INFO:   Metrics:\n",
      "COMET INFO:     accuracy_score : 0.5027027027027027\n",
      "COMET INFO:     roc_auc_score  : 0.6498316498316499\n",
      "COMET INFO:     sensitivity    : 0.8333333333333334\n",
      "COMET INFO:     specificity    : 0.42424242424242425\n",
      "COMET INFO:   Parameters:\n",
      "COMET INFO:     priors        : 1\n",
      "COMET INFO:     var_smoothing : 1e-09\n",
      "COMET INFO:   Uploads:\n",
      "COMET INFO:     confusion-matrix    : 1\n",
      "COMET INFO:     environment details : 1\n",
      "COMET INFO:     filename            : 1\n",
      "COMET INFO:     installed packages  : 1\n",
      "COMET INFO:     os packages         : 1\n",
      "COMET INFO: ---------------------------\n",
      "COMET INFO: Experiment is live on comet.ml https://www.comet.ml/bfaria/eeg-trauma/d79a1b49a3e243449160210b7a73d067\n",
      "\n"
     ]
    },
    {
     "name": "stdout",
     "output_type": "stream",
     "text": [
      "tuned hpyerparameters :(best parameters)  {'class_weight': 'balanced', 'max_features': 'auto', 'n_estimators': 100}\n",
      "accuracy : 0.860897435897436\n"
     ]
    }
   ],
   "source": [
    "exp4 = Experiment(api_key=\"MBGyCd1hOFVR5EcPbUFAX8MHV\", project_name=\"eeg-trauma\", workspace=\"bfaria\")\n",
    "\n",
    "rfc_grid(X_train_sc,y_train, exp4)"
   ]
  },
  {
   "cell_type": "code",
   "execution_count": 21,
   "metadata": {},
   "outputs": [
    {
     "name": "stdout",
     "output_type": "stream",
     "text": [
      "ROC_AUC score train:  0.9068742655699178\n",
      "ROC_AUC score test:  0.9068742655699178\n",
      "ROC_AUC score all:  0.8930348258706468\n",
      "accuracy for all:  0.8324324324324325\n",
      "Sensitivity for train:  0.6216216216216216\n",
      "Sensitivity for test:  0.7142857142857143\n",
      "Sensitivity for all:  0.6274509803921569\n",
      "Specificity for train:  0.9565217391304348\n",
      "Specificity for test:  0.9523809523809523\n",
      "Specificity for all:  0.9104477611940298\n",
      "Confusion matrix\n",
      "[[40  2]\n",
      " [ 4 10]]\n"
     ]
    }
   ],
   "source": [
    "rdf = RandomForestClassifier(max_features='auto', n_estimators=100, class_weight='balanced', random_state=101)\n",
    "cal_meth(rdf,X_sc,X_train_sc,X_test_sc,y_train,y_test,exp4, 'RFC_ml')"
   ]
  },
  {
   "cell_type": "code",
   "execution_count": 22,
   "metadata": {},
   "outputs": [
    {
     "name": "stderr",
     "output_type": "stream",
     "text": [
      "COMET INFO: ---------------------------\n",
      "COMET INFO: Comet.ml Experiment Summary\n",
      "COMET INFO: ---------------------------\n",
      "COMET INFO:   Data:\n",
      "COMET INFO:     display_summary_level : 1\n",
      "COMET INFO:     url                   : https://www.comet.ml/bfaria/eeg-trauma/d79a1b49a3e243449160210b7a73d067\n",
      "COMET INFO:   Metrics [count] (min, max):\n",
      "COMET INFO:     accuracy_score          : 0.8324324324324325\n",
      "COMET INFO:     mean_fit_time [24]      : (0.0007658958435058594, 0.9890085697174072)\n",
      "COMET INFO:     mean_score_time [24]    : (0.0, 0.06172206401824951)\n",
      "COMET INFO:     mean_test_score [24]    : (0.8294871794871794, 0.860897435897436)\n",
      "COMET INFO:     param_class_weight [24] : balanced\n",
      "COMET INFO:     param_max_features [24] : log2\n",
      "COMET INFO:     param_n_estimators [24] : (10, 500)\n",
      "COMET INFO:     rank_test_score [24]    : (1, 24)\n",
      "COMET INFO:     roc_auc_score           : 0.9068742655699178\n",
      "COMET INFO:     sensitivity             : 0.6216216216216216\n",
      "COMET INFO:     specificity             : 0.9565217391304348\n",
      "COMET INFO:     split0_test_score [24]  : 0.9230769230769231\n",
      "COMET INFO:     split1_test_score [24]  : (0.9230769230769231, 1.0)\n",
      "COMET INFO:     split2_test_score [24]  : (0.9230769230769231, 1.0)\n",
      "COMET INFO:     split3_test_score [24]  : (0.6923076923076923, 0.8461538461538461)\n",
      "COMET INFO:     split4_test_score [24]  : 0.6153846153846154\n",
      "COMET INFO:     split5_test_score [24]  : (0.8461538461538461, 1.0)\n",
      "COMET INFO:     split6_test_score [24]  : (0.7692307692307693, 0.8461538461538461)\n",
      "COMET INFO:     split7_test_score [24]  : (0.6923076923076923, 0.7692307692307693)\n",
      "COMET INFO:     split8_test_score [24]  : (0.8461538461538461, 0.9230769230769231)\n",
      "COMET INFO:     split9_test_score [24]  : (0.8333333333333334, 0.9166666666666666)\n",
      "COMET INFO:     std_fit_time [24]       : (8.389910163688213e-05, 0.18308317338308575)\n",
      "COMET INFO:     std_score_time [24]     : (0.0, 0.013810653547660014)\n",
      "COMET INFO:     std_test_score [24]     : (0.10192912415538952, 0.11876978709847119)\n",
      "COMET INFO:   Parameters [count]:\n",
      "COMET INFO:     class_weight [2]  : balanced\n",
      "COMET INFO:     max_features [6]  : log2\n",
      "COMET INFO:     model_type        : RFC_ml\n",
      "COMET INFO:     n_estimators [24] : 500\n",
      "COMET INFO:     random_state      : 101\n",
      "COMET INFO:     scaler            : standard scaler\n",
      "COMET INFO:   Uploads:\n",
      "COMET INFO:     confusion-matrix    : 1\n",
      "COMET INFO:     environment details : 1\n",
      "COMET INFO:     filename            : 1\n",
      "COMET INFO:     installed packages  : 1\n",
      "COMET INFO:     os packages         : 1\n",
      "COMET INFO: ---------------------------\n",
      "COMET INFO: Experiment is live on comet.ml https://www.comet.ml/bfaria/eeg-trauma/f7c598ba0c4546ab935c7c0876808e18\n",
      "\n"
     ]
    },
    {
     "name": "stdout",
     "output_type": "stream",
     "text": [
      "tuned hpyerparameters :(best parameters)  {'C': 100, 'class_weight': 'balanced', 'kernel': 'rbf'}\n",
      "accuracy : 0.783974358974359\n"
     ]
    }
   ],
   "source": [
    "exp5 = Experiment(api_key=\"MBGyCd1hOFVR5EcPbUFAX8MHV\", project_name=\"eeg-trauma\", workspace=\"bfaria\")\n",
    "\n",
    "svc_grid(X_train_sc,y_train,exp5)"
   ]
  },
  {
   "cell_type": "code",
   "execution_count": 23,
   "metadata": {},
   "outputs": [
    {
     "name": "stdout",
     "output_type": "stream",
     "text": [
      "ROC_AUC score train:  0.7497062279670975\n",
      "ROC_AUC score test:  0.7497062279670975\n",
      "ROC_AUC score all:  0.7878255779923911\n",
      "accuracy for all:  0.772972972972973\n",
      "Sensitivity for train:  0.5675675675675675\n",
      "Sensitivity for test:  0.5714285714285714\n",
      "Sensitivity for all:  0.5882352941176471\n",
      "Specificity for train:  0.8695652173913043\n",
      "Specificity for test:  0.8809523809523809\n",
      "Specificity for all:  0.8432835820895522\n",
      "Confusion matrix\n",
      "[[37  5]\n",
      " [ 6  8]]\n"
     ]
    }
   ],
   "source": [
    "svc = SVC(C=100, kernel='rbf', class_weight='balanced', random_state=101, probability=True)\n",
    "cal_meth(svc,X_sc,X_train_sc,X_test_sc,y_train,y_test, exp5,'SVC_ml')"
   ]
  },
  {
   "cell_type": "code",
   "execution_count": 24,
   "metadata": {},
   "outputs": [
    {
     "name": "stderr",
     "output_type": "stream",
     "text": [
      "COMET INFO: ---------------------------\n",
      "COMET INFO: Comet.ml Experiment Summary\n",
      "COMET INFO: ---------------------------\n",
      "COMET INFO:   Data:\n",
      "COMET INFO:     display_summary_level : 1\n",
      "COMET INFO:     url                   : https://www.comet.ml/bfaria/eeg-trauma/f7c598ba0c4546ab935c7c0876808e18\n",
      "COMET INFO:   Metrics [count] (min, max):\n",
      "COMET INFO:     accuracy_score          : 0.772972972972973\n",
      "COMET INFO:     mean_fit_time [12]      : (0.0012421607971191406, 0.11031861305236816)\n",
      "COMET INFO:     mean_score_time [12]    : (0.0, 0.0007735252380371094)\n",
      "COMET INFO:     mean_test_score [12]    : (0.7435897435897436, 0.783974358974359)\n",
      "COMET INFO:     param_C [12]            : (1, 100)\n",
      "COMET INFO:     param_class_weight [12] : balanced\n",
      "COMET INFO:     param_kernel [12]       : rbf\n",
      "COMET INFO:     rank_test_score [12]    : (1, 12)\n",
      "COMET INFO:     roc_auc_score           : 0.7497062279670975\n",
      "COMET INFO:     sensitivity             : 0.5675675675675675\n",
      "COMET INFO:     specificity             : 0.8695652173913043\n",
      "COMET INFO:     split0_test_score [12]  : (0.7692307692307693, 0.9230769230769231)\n",
      "COMET INFO:     split1_test_score [12]  : 0.8461538461538461\n",
      "COMET INFO:     split2_test_score [12]  : (0.8461538461538461, 0.9230769230769231)\n",
      "COMET INFO:     split3_test_score [12]  : (0.6923076923076923, 0.8461538461538461)\n",
      "COMET INFO:     split4_test_score [12]  : (0.46153846153846156, 0.6153846153846154)\n",
      "COMET INFO:     split5_test_score [12]  : (0.6923076923076923, 0.9230769230769231)\n",
      "COMET INFO:     split6_test_score [12]  : (0.6923076923076923, 0.9230769230769231)\n",
      "COMET INFO:     split7_test_score [12]  : (0.5384615384615384, 0.8461538461538461)\n",
      "COMET INFO:     split8_test_score [12]  : (0.5384615384615384, 0.7692307692307693)\n",
      "COMET INFO:     split9_test_score [12]  : (0.6666666666666666, 0.9166666666666666)\n",
      "COMET INFO:     std_fit_time [12]       : (0.00015844995270174983, 0.08145064541214891)\n",
      "COMET INFO:     std_score_time [12]     : (0.0, 0.0003117571851809481)\n",
      "COMET INFO:     std_test_score [12]     : (0.08198113989101624, 0.15576923076923077)\n",
      "COMET INFO:   Parameters [count]:\n",
      "COMET INFO:     C [3]            : 100\n",
      "COMET INFO:     class_weight [6] : balanced\n",
      "COMET INFO:     kernel [12]      : rbf\n",
      "COMET INFO:     model_type       : SVC_ml\n",
      "COMET INFO:     random_state     : 101\n",
      "COMET INFO:     scaler           : standard scaler\n",
      "COMET INFO:   Uploads:\n",
      "COMET INFO:     confusion-matrix    : 1\n",
      "COMET INFO:     environment details : 1\n",
      "COMET INFO:     filename            : 1\n",
      "COMET INFO:     installed packages  : 1\n",
      "COMET INFO:     os packages         : 1\n",
      "COMET INFO: ---------------------------\n",
      "COMET INFO: Experiment is live on comet.ml https://www.comet.ml/bfaria/eeg-trauma/12bd1cece1c94aa08bf3717c0875ac23\n",
      "\n"
     ]
    },
    {
     "name": "stdout",
     "output_type": "stream",
     "text": [
      "ROC_AUC score train:  0.7884841363102232\n",
      "ROC_AUC score test:  0.7884841363102232\n",
      "ROC_AUC score all:  0.8331870061457419\n",
      "accuracy for all:  0.7945945945945946\n",
      "Sensitivity for train:  0.7027027027027027\n",
      "Sensitivity for test:  0.6428571428571429\n",
      "Sensitivity for all:  0.7254901960784313\n",
      "Specificity for train:  0.8152173913043478\n",
      "Specificity for test:  0.8809523809523809\n",
      "Specificity for all:  0.8208955223880597\n",
      "Confusion matrix\n",
      "[[37  5]\n",
      " [ 5  9]]\n"
     ]
    }
   ],
   "source": [
    "exp6 = Experiment(api_key=\"MBGyCd1hOFVR5EcPbUFAX8MHV\", project_name=\"eeg-trauma\", workspace=\"bfaria\")\n",
    "\n",
    "gnb_meth(X_sc, X_train_sc, X_test_sc, y_train, y_test,exp6, 'GNB_ml')"
   ]
  },
  {
   "cell_type": "markdown",
   "metadata": {},
   "source": [
    "# 3) Classification task using Features from pval"
   ]
  },
  {
   "cell_type": "code",
   "execution_count": 25,
   "metadata": {},
   "outputs": [],
   "source": [
    "data_pval['target'] = data_all['target']\n",
    "data_pval['target'].apply(lambda x: 0 if x=='healthy' else 1 if x=='trauma' else None)  \n",
    "X = data_pval.drop(['fn','target'], axis=1)\n",
    "y = data_pval.target"
   ]
  },
  {
   "cell_type": "code",
   "execution_count": 26,
   "metadata": {},
   "outputs": [],
   "source": [
    "X_train, X_test, y_train, y_test = train_test_split(X, y, test_size=0.3)\n",
    "\n",
    "scaler = StandardScaler()\n",
    "X_train_sc = scaler.fit_transform(X_train)\n",
    "X_test_sc = scaler.fit_transform(X_test)\n",
    "X_sc = scaler.fit_transform(X)"
   ]
  },
  {
   "cell_type": "code",
   "execution_count": 27,
   "metadata": {},
   "outputs": [
    {
     "data": {
      "text/plain": [
       "<matplotlib.axes._subplots.AxesSubplot at 0x7fe4972c49e8>"
      ]
     },
     "execution_count": 27,
     "metadata": {},
     "output_type": "execute_result"
    },
    {
     "data": {
      "image/png": "[encoded data removed]",
      "text/plain": [
       "<Figure size 576x288 with 2 Axes>"
      ]
     },
     "metadata": {},
     "output_type": "display_data"
    }
   ],
   "source": [
    "fig, axs = plt.subplots(1,2, figsize=[8,4])\n",
    "sns.countplot(y_train, ax=axs[0])\n",
    "sns.countplot(y_test, ax=axs[1])"
   ]
  },
  {
   "cell_type": "code",
   "execution_count": 28,
   "metadata": {},
   "outputs": [
    {
     "name": "stderr",
     "output_type": "stream",
     "text": [
      "COMET INFO: ---------------------------\n",
      "COMET INFO: Comet.ml Experiment Summary\n",
      "COMET INFO: ---------------------------\n",
      "COMET INFO:   Data:\n",
      "COMET INFO:     display_summary_level : 1\n",
      "COMET INFO:     url                   : https://www.comet.ml/bfaria/eeg-trauma/12bd1cece1c94aa08bf3717c0875ac23\n",
      "COMET INFO:   Metrics:\n",
      "COMET INFO:     accuracy_score : 0.7945945945945946\n",
      "COMET INFO:     roc_auc_score  : 0.7884841363102232\n",
      "COMET INFO:     sensitivity    : 0.7027027027027027\n",
      "COMET INFO:     specificity    : 0.8152173913043478\n",
      "COMET INFO:   Parameters:\n",
      "COMET INFO:     priors        : 1\n",
      "COMET INFO:     var_smoothing : 1e-09\n",
      "COMET INFO:   Uploads:\n",
      "COMET INFO:     confusion-matrix    : 1\n",
      "COMET INFO:     environment details : 1\n",
      "COMET INFO:     filename            : 1\n",
      "COMET INFO:     installed packages  : 1\n",
      "COMET INFO:     os packages         : 1\n",
      "COMET INFO: ---------------------------\n",
      "COMET INFO: Experiment is live on comet.ml https://www.comet.ml/bfaria/eeg-trauma/a50f159180c84d64a4fbca41fd8d90b7\n",
      "\n"
     ]
    },
    {
     "name": "stdout",
     "output_type": "stream",
     "text": [
      "tuned hpyerparameters :(best parameters)  {'class_weight': 'balanced', 'max_features': 'log2', 'n_estimators': 300}\n",
      "accuracy : 0.8211538461538463\n"
     ]
    }
   ],
   "source": [
    "exp7 = Experiment(api_key=\"MBGyCd1hOFVR5EcPbUFAX8MHV\", project_name=\"eeg-trauma\", workspace=\"bfaria\")\n",
    "\n",
    "rfc_grid(X_train_sc,y_train,exp7)"
   ]
  },
  {
   "cell_type": "code",
   "execution_count": 30,
   "metadata": {},
   "outputs": [
    {
     "name": "stdout",
     "output_type": "stream",
     "text": [
      "ROC_AUC score train:  0.8346774193548387\n",
      "ROC_AUC score test:  0.8346774193548387\n",
      "ROC_AUC score all:  0.8257243195785776\n",
      "accuracy for all:  0.7891891891891892\n",
      "Sensitivity for train:  0.4722222222222222\n",
      "Sensitivity for test:  0.13333333333333333\n",
      "Sensitivity for all:  0.39215686274509803\n",
      "Specificity for train:  0.956989247311828\n",
      "Specificity for test:  0.9512195121951219\n",
      "Specificity for all:  0.9402985074626866\n",
      "Confusion matrix\n",
      "[[39  2]\n",
      " [13  2]]\n"
     ]
    }
   ],
   "source": [
    "rdf = RandomForestClassifier(max_features='log2', n_estimators=300, class_weight='balanced', random_state=101)\n",
    "cal_meth(rdf,X_sc,X_train_sc,X_test_sc,y_train,y_test,exp7, 'RFC_pval')"
   ]
  },
  {
   "cell_type": "code",
   "execution_count": 31,
   "metadata": {},
   "outputs": [
    {
     "name": "stderr",
     "output_type": "stream",
     "text": [
      "COMET INFO: ---------------------------\n",
      "COMET INFO: Comet.ml Experiment Summary\n",
      "COMET INFO: ---------------------------\n",
      "COMET INFO:   Data:\n",
      "COMET INFO:     display_summary_level : 1\n",
      "COMET INFO:     url                   : https://www.comet.ml/bfaria/eeg-trauma/a50f159180c84d64a4fbca41fd8d90b7\n",
      "COMET INFO:   Metrics [count] (min, max):\n",
      "COMET INFO:     accuracy_score [2]      : 0.7891891891891892\n",
      "COMET INFO:     mean_fit_time [24]      : (0.0007980823516845703, 0.9743922233581543)\n",
      "COMET INFO:     mean_score_time [24]    : (0.0, 0.06560757160186767)\n",
      "COMET INFO:     mean_test_score [24]    : (0.7282051282051282, 0.8211538461538463)\n",
      "COMET INFO:     param_class_weight [24] : balanced\n",
      "COMET INFO:     param_max_features [24] : log2\n",
      "COMET INFO:     param_n_estimators [24] : (10, 500)\n",
      "COMET INFO:     rank_test_score [24]    : (1, 24)\n",
      "COMET INFO:     roc_auc_score [2]       : (0.8206391875746712, 0.8346774193548387)\n",
      "COMET INFO:     sensitivity [2]         : (0.4166666666666667, 0.4722222222222222)\n",
      "COMET INFO:     specificity [2]         : (0.946236559139785, 0.956989247311828)\n",
      "COMET INFO:     split0_test_score [24]  : (0.46153846153846156, 0.9230769230769231)\n",
      "COMET INFO:     split1_test_score [24]  : (0.6153846153846154, 0.8461538461538461)\n",
      "COMET INFO:     split2_test_score [24]  : (0.7692307692307693, 0.8461538461538461)\n",
      "COMET INFO:     split3_test_score [24]  : (0.7692307692307693, 0.8461538461538461)\n",
      "COMET INFO:     split4_test_score [24]  : (0.7692307692307693, 0.8461538461538461)\n",
      "COMET INFO:     split5_test_score [24]  : (0.6923076923076923, 0.8461538461538461)\n",
      "COMET INFO:     split6_test_score [24]  : (0.8461538461538461, 0.9230769230769231)\n",
      "COMET INFO:     split7_test_score [24]  : (0.6923076923076923, 0.7692307692307693)\n",
      "COMET INFO:     split8_test_score [24]  : 0.7692307692307693\n",
      "COMET INFO:     split9_test_score [24]  : (0.6666666666666666, 0.75)\n",
      "COMET INFO:     std_fit_time [24]       : (8.5388687952364e-05, 0.20868697931648802)\n",
      "COMET INFO:     std_score_time [24]     : (0.0, 0.022594358285777785)\n",
      "COMET INFO:     std_test_score [24]     : (0.051637390700375194, 0.10584496123359126)\n",
      "COMET INFO:   Parameters [count]:\n",
      "COMET INFO:     class_weight [2]  : balanced\n",
      "COMET INFO:     max_features [6]  : log2\n",
      "COMET INFO:     model_type        : RFC_pval\n",
      "COMET INFO:     n_estimators [24] : 500\n",
      "COMET INFO:     random_state      : 101\n",
      "COMET INFO:     scaler            : standard scaler\n",
      "COMET INFO:   Uploads [count]:\n",
      "COMET INFO:     confusion-matrix [2] : 2\n",
      "COMET INFO:     environment details  : 1\n",
      "COMET INFO:     filename             : 1\n",
      "COMET INFO:     installed packages   : 1\n",
      "COMET INFO:     os packages          : 1\n",
      "COMET INFO: ---------------------------\n",
      "COMET INFO: Experiment is live on comet.ml https://www.comet.ml/bfaria/eeg-trauma/8b3cc21da1494c7bb7b828d5733ecf1a\n",
      "\n"
     ]
    },
    {
     "name": "stdout",
     "output_type": "stream",
     "text": [
      "tuned hpyerparameters :(best parameters)  {'C': 1, 'class_weight': 'balanced', 'kernel': 'linear'}\n",
      "accuracy : 0.8525641025641025\n"
     ]
    }
   ],
   "source": [
    "exp8 = Experiment(api_key=\"MBGyCd1hOFVR5EcPbUFAX8MHV\", project_name=\"eeg-trauma\", workspace=\"bfaria\")\n",
    "\n",
    "svc_grid(X_train_sc,y_train,exp8)"
   ]
  },
  {
   "cell_type": "code",
   "execution_count": 32,
   "metadata": {},
   "outputs": [
    {
     "name": "stdout",
     "output_type": "stream",
     "text": [
      "ROC_AUC score train:  0.8521505376344086\n",
      "ROC_AUC score test:  0.8521505376344086\n",
      "ROC_AUC score all:  0.8700614574187883\n",
      "accuracy for all:  0.8108108108108109\n",
      "Sensitivity for train:  0.7777777777777778\n",
      "Sensitivity for test:  0.5333333333333333\n",
      "Sensitivity for all:  0.7843137254901961\n",
      "Specificity for train:  0.8817204301075269\n",
      "Specificity for test:  0.7804878048780488\n",
      "Specificity for all:  0.8208955223880597\n",
      "Confusion matrix\n",
      "[[32  9]\n",
      " [ 7  8]]\n"
     ]
    }
   ],
   "source": [
    "svc = SVC(C=1, kernel='linear', class_weight='balanced', random_state=101, probability=True)\n",
    "cal_meth(svc,X_sc,X_train_sc,X_test_sc,y_train,y_test,exp8, 'SVC_pval')"
   ]
  },
  {
   "cell_type": "code",
   "execution_count": 33,
   "metadata": {},
   "outputs": [
    {
     "name": "stderr",
     "output_type": "stream",
     "text": [
      "COMET INFO: ---------------------------\n",
      "COMET INFO: Comet.ml Experiment Summary\n",
      "COMET INFO: ---------------------------\n",
      "COMET INFO:   Data:\n",
      "COMET INFO:     display_summary_level : 1\n",
      "COMET INFO:     url                   : https://www.comet.ml/bfaria/eeg-trauma/8b3cc21da1494c7bb7b828d5733ecf1a\n",
      "COMET INFO:   Metrics [count] (min, max):\n",
      "COMET INFO:     accuracy_score          : 0.8108108108108109\n",
      "COMET INFO:     mean_fit_time [12]      : (0.0012970685958862305, 0.0145416259765625)\n",
      "COMET INFO:     mean_score_time [12]    : (0.0, 0.0007236242294311523)\n",
      "COMET INFO:     mean_test_score [12]    : (0.7743589743589745, 0.8525641025641025)\n",
      "COMET INFO:     param_C [12]            : (1, 100)\n",
      "COMET INFO:     param_class_weight [12] : balanced\n",
      "COMET INFO:     param_kernel [12]       : rbf\n",
      "COMET INFO:     rank_test_score [12]    : (1, 12)\n",
      "COMET INFO:     roc_auc_score           : 0.8521505376344086\n",
      "COMET INFO:     sensitivity             : 0.7777777777777778\n",
      "COMET INFO:     specificity             : 0.8817204301075269\n",
      "COMET INFO:     split0_test_score [12]  : (0.6923076923076923, 0.8461538461538461)\n",
      "COMET INFO:     split1_test_score [12]  : (0.7692307692307693, 0.8461538461538461)\n",
      "COMET INFO:     split2_test_score [12]  : (0.6923076923076923, 1.0)\n",
      "COMET INFO:     split3_test_score [12]  : 0.9230769230769231\n",
      "COMET INFO:     split4_test_score [12]  : (0.6923076923076923, 0.7692307692307693)\n",
      "COMET INFO:     split5_test_score [12]  : (0.6153846153846154, 0.8461538461538461)\n",
      "COMET INFO:     split6_test_score [12]  : (0.9230769230769231, 1.0)\n",
      "COMET INFO:     split7_test_score [12]  : (0.7692307692307693, 0.9230769230769231)\n",
      "COMET INFO:     split8_test_score [12]  : (0.6153846153846154, 0.8461538461538461)\n",
      "COMET INFO:     split9_test_score [12]  : (0.6666666666666666, 0.8333333333333334)\n",
      "COMET INFO:     std_fit_time [12]       : (0.00031441448288506185, 0.005636684136047908)\n",
      "COMET INFO:     std_score_time [12]     : (0.0, 0.0001545024670717454)\n",
      "COMET INFO:     std_test_score [12]     : (0.06204717617269877, 0.1277942132756627)\n",
      "COMET INFO:   Parameters [count]:\n",
      "COMET INFO:     C [3]            : 100\n",
      "COMET INFO:     class_weight [6] : balanced\n",
      "COMET INFO:     kernel [12]      : rbf\n",
      "COMET INFO:     model_type       : SVC_pval\n",
      "COMET INFO:     random_state     : 101\n",
      "COMET INFO:     scaler           : standard scaler\n",
      "COMET INFO:   Uploads:\n",
      "COMET INFO:     confusion-matrix    : 1\n",
      "COMET INFO:     environment details : 1\n",
      "COMET INFO:     filename            : 1\n",
      "COMET INFO:     installed packages  : 1\n",
      "COMET INFO:     os packages         : 1\n",
      "COMET INFO: ---------------------------\n",
      "COMET INFO: Experiment is live on comet.ml https://www.comet.ml/bfaria/eeg-trauma/8542634fc6e448649a51301f09d8fc53\n",
      "\n"
     ]
    },
    {
     "name": "stdout",
     "output_type": "stream",
     "text": [
      "ROC_AUC score train:  0.7437275985663081\n",
      "ROC_AUC score test:  0.7437275985663081\n",
      "ROC_AUC score all:  0.7358062628036289\n",
      "accuracy for all:  0.7189189189189189\n",
      "Sensitivity for train:  0.5833333333333334\n",
      "Sensitivity for test:  0.6\n",
      "Sensitivity for all:  0.6274509803921569\n",
      "Specificity for train:  0.7849462365591398\n",
      "Specificity for test:  0.6341463414634146\n",
      "Specificity for all:  0.753731343283582\n",
      "Confusion matrix\n",
      "[[26 15]\n",
      " [ 6  9]]\n"
     ]
    }
   ],
   "source": [
    "exp9 = Experiment(api_key=\"MBGyCd1hOFVR5EcPbUFAX8MHV\", project_name=\"eeg-trauma\", workspace=\"bfaria\")\n",
    "\n",
    "gnb_meth(X_sc, X_train_sc, X_test_sc, y_train, y_test,exp9, 'GBN_pval')"
   ]
  },
  {
   "cell_type": "markdown",
   "metadata": {},
   "source": [
    "# 4) Classification task using Features from intersection"
   ]
  },
  {
   "cell_type": "code",
   "execution_count": 34,
   "metadata": {},
   "outputs": [],
   "source": [
    "data_inter['target'] = data_all['target']\n",
    "data_inter['target'].apply(lambda x: 0 if x=='healthy' else 1 if x=='trauma' else None)  \n",
    "X = data_inter.drop(['fn','target'], axis=1)\n",
    "y = data_inter.target"
   ]
  },
  {
   "cell_type": "code",
   "execution_count": 35,
   "metadata": {},
   "outputs": [],
   "source": [
    "X_train, X_test, y_train, y_test = train_test_split(X, y, test_size=0.3)\n",
    "\n",
    "scaler = StandardScaler()\n",
    "X_train_sc = scaler.fit_transform(X_train)\n",
    "X_test_sc = scaler.fit_transform(X_test)\n",
    "X_sc = scaler.fit_transform(X)"
   ]
  },
  {
   "cell_type": "code",
   "execution_count": 36,
   "metadata": {},
   "outputs": [
    {
     "data": {
      "text/plain": [
       "<matplotlib.axes._subplots.AxesSubplot at 0x7fe497205ef0>"
      ]
     },
     "execution_count": 36,
     "metadata": {},
     "output_type": "execute_result"
    },
    {
     "data": {
      "image/png": "[encoded data removed]",
      "text/plain": [
       "<Figure size 576x288 with 2 Axes>"
      ]
     },
     "metadata": {},
     "output_type": "display_data"
    }
   ],
   "source": [
    "fig, axs = plt.subplots(1,2, figsize=[8,4])\n",
    "sns.countplot(y_train, ax=axs[0])\n",
    "sns.countplot(y_test, ax=axs[1])"
   ]
  },
  {
   "cell_type": "code",
   "execution_count": 37,
   "metadata": {},
   "outputs": [
    {
     "name": "stderr",
     "output_type": "stream",
     "text": [
      "COMET INFO: ---------------------------\n",
      "COMET INFO: Comet.ml Experiment Summary\n",
      "COMET INFO: ---------------------------\n",
      "COMET INFO:   Data:\n",
      "COMET INFO:     display_summary_level : 1\n",
      "COMET INFO:     url                   : https://www.comet.ml/bfaria/eeg-trauma/8542634fc6e448649a51301f09d8fc53\n",
      "COMET INFO:   Metrics:\n",
      "COMET INFO:     accuracy_score : 0.7189189189189189\n",
      "COMET INFO:     roc_auc_score  : 0.7437275985663081\n",
      "COMET INFO:     sensitivity    : 0.5833333333333334\n",
      "COMET INFO:     specificity    : 0.7849462365591398\n",
      "COMET INFO:   Parameters:\n",
      "COMET INFO:     priors        : 1\n",
      "COMET INFO:     var_smoothing : 1e-09\n",
      "COMET INFO:   Uploads:\n",
      "COMET INFO:     confusion-matrix    : 1\n",
      "COMET INFO:     environment details : 1\n",
      "COMET INFO:     filename            : 1\n",
      "COMET INFO:     installed packages  : 1\n",
      "COMET INFO:     os packages         : 1\n",
      "COMET INFO: ---------------------------\n",
      "COMET INFO: Experiment is live on comet.ml https://www.comet.ml/bfaria/eeg-trauma/483877353578468cb49e8ba0ebfc0302\n",
      "\n"
     ]
    },
    {
     "name": "stdout",
     "output_type": "stream",
     "text": [
      "tuned hpyerparameters :(best parameters)  {'class_weight': 'balanced', 'max_features': 'auto', 'n_estimators': 100}\n",
      "accuracy : 0.8217948717948718\n"
     ]
    }
   ],
   "source": [
    "exp10 = Experiment(api_key=\"MBGyCd1hOFVR5EcPbUFAX8MHV\", project_name=\"eeg-trauma\", workspace=\"bfaria\")\n",
    "\n",
    "rfc_grid(X_train_sc,y_train,exp10)"
   ]
  },
  {
   "cell_type": "code",
   "execution_count": 38,
   "metadata": {},
   "outputs": [
    {
     "name": "stdout",
     "output_type": "stream",
     "text": [
      "ROC_AUC score train:  0.8636363636363638\n",
      "ROC_AUC score test:  0.8636363636363638\n",
      "ROC_AUC score all:  0.7778753292361722\n",
      "accuracy for all:  0.8162162162162162\n",
      "Sensitivity for train:  0.5151515151515151\n",
      "Sensitivity for test:  0.5555555555555556\n",
      "Sensitivity for all:  0.5490196078431373\n",
      "Specificity for train:  0.90625\n",
      "Specificity for test:  0.868421052631579\n",
      "Specificity for all:  0.917910447761194\n",
      "Confusion matrix\n",
      "[[33  5]\n",
      " [ 8 10]]\n"
     ]
    }
   ],
   "source": [
    "rdf = RandomForestClassifier(max_features='auto', n_estimators=100, class_weight='balanced', random_state=101)\n",
    "cal_meth(rdf,X_sc,X_train_sc,X_test_sc,y_train,y_test,exp10, 'RFC_inter')"
   ]
  },
  {
   "cell_type": "code",
   "execution_count": 39,
   "metadata": {},
   "outputs": [
    {
     "name": "stderr",
     "output_type": "stream",
     "text": [
      "COMET INFO: ---------------------------\n",
      "COMET INFO: Comet.ml Experiment Summary\n",
      "COMET INFO: ---------------------------\n",
      "COMET INFO:   Data:\n",
      "COMET INFO:     display_summary_level : 1\n",
      "COMET INFO:     url                   : https://www.comet.ml/bfaria/eeg-trauma/483877353578468cb49e8ba0ebfc0302\n",
      "COMET INFO:   Metrics [count] (min, max):\n",
      "COMET INFO:     accuracy_score          : 0.8162162162162162\n",
      "COMET INFO:     mean_fit_time [24]      : (0.0006869554519653321, 0.9048429727554321)\n",
      "COMET INFO:     mean_score_time [24]    : (0.0, 0.05648458003997803)\n",
      "COMET INFO:     mean_test_score [24]    : (0.8057692307692307, 0.8217948717948718)\n",
      "COMET INFO:     param_class_weight [24] : balanced\n",
      "COMET INFO:     param_max_features [24] : log2\n",
      "COMET INFO:     param_n_estimators [24] : (10, 500)\n",
      "COMET INFO:     rank_test_score [24]    : (1, 24)\n",
      "COMET INFO:     roc_auc_score           : 0.8636363636363638\n",
      "COMET INFO:     sensitivity             : 0.5151515151515151\n",
      "COMET INFO:     specificity             : 0.90625\n",
      "COMET INFO:     split0_test_score [24]  : 0.6923076923076923\n",
      "COMET INFO:     split1_test_score [24]  : 0.7692307692307693\n",
      "COMET INFO:     split2_test_score [24]  : (0.8461538461538461, 0.9230769230769231)\n",
      "COMET INFO:     split3_test_score [24]  : (0.7692307692307693, 0.8461538461538461)\n",
      "COMET INFO:     split4_test_score [24]  : 0.9230769230769231\n",
      "COMET INFO:     split5_test_score [24]  : 0.8461538461538461\n",
      "COMET INFO:     split6_test_score [24]  : (0.6923076923076923, 0.7692307692307693)\n",
      "COMET INFO:     split7_test_score [24]  : 0.9230769230769231\n",
      "COMET INFO:     split8_test_score [24]  : 0.7692307692307693\n",
      "COMET INFO:     split9_test_score [24]  : (0.75, 0.8333333333333334)\n",
      "COMET INFO:     std_fit_time [24]       : (5.1811401841241864e-05, 0.17526035749093105)\n",
      "COMET INFO:     std_score_time [24]     : (0.0, 0.014011336691781392)\n",
      "COMET INFO:     std_test_score [24]     : (0.07198064335466502, 0.08704977152120214)\n",
      "COMET INFO:   Parameters [count]:\n",
      "COMET INFO:     class_weight [2]  : balanced\n",
      "COMET INFO:     max_features [6]  : log2\n",
      "COMET INFO:     model_type        : RFC_inter\n",
      "COMET INFO:     n_estimators [24] : 500\n",
      "COMET INFO:     random_state      : 101\n",
      "COMET INFO:     scaler            : standard scaler\n",
      "COMET INFO:   Uploads:\n",
      "COMET INFO:     confusion-matrix    : 1\n",
      "COMET INFO:     environment details : 1\n",
      "COMET INFO:     filename            : 1\n",
      "COMET INFO:     installed packages  : 1\n",
      "COMET INFO:     os packages         : 1\n",
      "COMET INFO: ---------------------------\n",
      "COMET INFO: Experiment is live on comet.ml https://www.comet.ml/bfaria/eeg-trauma/c0af5f82b9454bb4b087a5a1510a80bc\n",
      "\n"
     ]
    },
    {
     "name": "stdout",
     "output_type": "stream",
     "text": [
      "tuned hpyerparameters :(best parameters)  {'C': 1, 'class_weight': 'balanced', 'kernel': 'linear'}\n",
      "accuracy : 0.7833333333333333\n"
     ]
    }
   ],
   "source": [
    "exp11 = Experiment(api_key=\"MBGyCd1hOFVR5EcPbUFAX8MHV\", project_name=\"eeg-trauma\", workspace=\"bfaria\")\n",
    "\n",
    "svc_grid(X_train_sc,y_train,exp11)"
   ]
  },
  {
   "cell_type": "code",
   "execution_count": 40,
   "metadata": {},
   "outputs": [
    {
     "name": "stdout",
     "output_type": "stream",
     "text": [
      "ROC_AUC score train:  0.8469065656565656\n",
      "ROC_AUC score test:  0.8469065656565656\n",
      "ROC_AUC score all:  0.7952151009657594\n",
      "accuracy for all:  0.772972972972973\n",
      "Sensitivity for train:  0.8181818181818182\n",
      "Sensitivity for test:  0.6666666666666666\n",
      "Sensitivity for all:  0.7647058823529411\n",
      "Specificity for train:  0.7708333333333334\n",
      "Specificity for test:  0.7631578947368421\n",
      "Specificity for all:  0.7761194029850746\n",
      "Confusion matrix\n",
      "[[29  9]\n",
      " [ 6 12]]\n"
     ]
    }
   ],
   "source": [
    "svc = SVC(C=1, kernel='linear', class_weight='balanced', random_state=101, probability=True)\n",
    "cal_meth(svc,X_sc,X_train_sc,X_test_sc,y_train,y_test,exp11, 'SVC_inter')"
   ]
  },
  {
   "cell_type": "code",
   "execution_count": 41,
   "metadata": {},
   "outputs": [
    {
     "name": "stderr",
     "output_type": "stream",
     "text": [
      "COMET INFO: ---------------------------\n",
      "COMET INFO: Comet.ml Experiment Summary\n",
      "COMET INFO: ---------------------------\n",
      "COMET INFO:   Data:\n",
      "COMET INFO:     display_summary_level : 1\n",
      "COMET INFO:     url                   : https://www.comet.ml/bfaria/eeg-trauma/c0af5f82b9454bb4b087a5a1510a80bc\n",
      "COMET INFO:   Metrics [count] (min, max):\n",
      "COMET INFO:     accuracy_score          : 0.772972972972973\n",
      "COMET INFO:     mean_fit_time [12]      : (0.0010428428649902344, 0.015201807022094727)\n",
      "COMET INFO:     mean_score_time [12]    : (0.0, 0.000786900520324707)\n",
      "COMET INFO:     mean_test_score [12]    : (0.7211538461538463, 0.7833333333333333)\n",
      "COMET INFO:     param_C [12]            : (1, 100)\n",
      "COMET INFO:     param_class_weight [12] : balanced\n",
      "COMET INFO:     param_kernel [12]       : rbf\n",
      "COMET INFO:     rank_test_score [12]    : (1, 12)\n",
      "COMET INFO:     roc_auc_score           : 0.8469065656565656\n",
      "COMET INFO:     sensitivity             : 0.8181818181818182\n",
      "COMET INFO:     specificity             : 0.7708333333333334\n",
      "COMET INFO:     split0_test_score [12]  : (0.5384615384615384, 0.7692307692307693)\n",
      "COMET INFO:     split1_test_score [12]  : (0.6923076923076923, 0.7692307692307693)\n",
      "COMET INFO:     split2_test_score [12]  : (0.6923076923076923, 0.8461538461538461)\n",
      "COMET INFO:     split3_test_score [12]  : (0.6923076923076923, 0.7692307692307693)\n",
      "COMET INFO:     split4_test_score [12]  : (0.8461538461538461, 1.0)\n",
      "COMET INFO:     split5_test_score [12]  : (0.6923076923076923, 0.7692307692307693)\n",
      "COMET INFO:     split6_test_score [12]  : (0.46153846153846156, 0.5384615384615384)\n",
      "COMET INFO:     split7_test_score [12]  : 0.9230769230769231\n",
      "COMET INFO:     split8_test_score [12]  : (0.6923076923076923, 0.8461538461538461)\n",
      "COMET INFO:     split9_test_score [12]  : (0.75, 0.8333333333333334)\n",
      "COMET INFO:     std_fit_time [12]       : (0.00019155973643067415, 0.004953554954813051)\n",
      "COMET INFO:     std_score_time [12]     : (0.0, 0.00017026409558121386)\n",
      "COMET INFO:     std_test_score [12]     : (0.11449981266618615, 0.1301455716591433)\n",
      "COMET INFO:   Parameters [count]:\n",
      "COMET INFO:     C [3]            : 100\n",
      "COMET INFO:     class_weight [6] : balanced\n",
      "COMET INFO:     kernel [12]      : rbf\n",
      "COMET INFO:     model_type       : SVC_inter\n",
      "COMET INFO:     random_state     : 101\n",
      "COMET INFO:     scaler           : standard scaler\n",
      "COMET INFO:   Uploads:\n",
      "COMET INFO:     confusion-matrix    : 1\n",
      "COMET INFO:     environment details : 1\n",
      "COMET INFO:     filename            : 1\n",
      "COMET INFO:     installed packages  : 1\n",
      "COMET INFO:     os packages         : 1\n",
      "COMET INFO: ---------------------------\n",
      "COMET INFO: Experiment is live on comet.ml https://www.comet.ml/bfaria/eeg-trauma/9e52cdfd5e3a4d10a73d12dcf5aecba0\n",
      "\n"
     ]
    },
    {
     "name": "stdout",
     "output_type": "stream",
     "text": [
      "ROC_AUC score train:  0.813604797979798\n",
      "ROC_AUC score test:  0.813604797979798\n",
      "ROC_AUC score all:  0.7863623061164764\n",
      "accuracy for all:  0.8108108108108109\n",
      "Sensitivity for train:  0.48484848484848486\n",
      "Sensitivity for test:  0.5555555555555556\n",
      "Sensitivity for all:  0.6078431372549019\n",
      "Specificity for train:  0.8645833333333334\n",
      "Specificity for test:  0.8157894736842105\n",
      "Specificity for all:  0.8880597014925373\n",
      "Confusion matrix\n",
      "[[31  7]\n",
      " [ 8 10]]\n"
     ]
    }
   ],
   "source": [
    "exp12 = Experiment(api_key=\"MBGyCd1hOFVR5EcPbUFAX8MHV\", project_name=\"eeg-trauma\", workspace=\"bfaria\")\n",
    "\n",
    "gnb_meth(X_sc, X_train_sc, X_test_sc, y_train, y_test,exp12, 'GBN_inter')"
   ]
  },
  {
   "cell_type": "markdown",
   "metadata": {},
   "source": [
    "# Conclusions:"
   ]
  },
  {
   "cell_type": "markdown",
   "metadata": {},
   "source": [
    "![title](../images/AllResults.png)"
   ]
  },
  {
   "cell_type": "code",
   "execution_count": null,
   "metadata": {},
   "outputs": [],
   "source": []
  }
 ],
 "metadata": {
  "colab": {
   "name": "Cópia de MLworflow.ipynb",
   "provenance": []
  },
  "kernelspec": {
   "display_name": "Python 3",
   "language": "python",
   "name": "python3"
  },
  "language_info": {
   "codemirror_mode": {
    "name": "ipython",
    "version": 3
   },
   "file_extension": ".py",
   "mimetype": "text/x-python",
   "name": "python",
   "nbconvert_exporter": "python",
   "pygments_lexer": "ipython3",
   "version": "3.6.9"
  }
 },
 "nbformat": 4,
 "nbformat_minor": 1
}
