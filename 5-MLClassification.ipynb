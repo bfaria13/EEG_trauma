{
 "cells": [
  {
   "cell_type": "markdown",
   "metadata": {
    "id": "xOC6V8JyR54h"
   },
   "source": [
    "# Machine Learning Pipeline \n",
    "\n",
    "** Build ML model with cross-validation to classify brain injury from EEG.**\n",
    "\n",
    "* Testing models:\n",
    "\n",
    "    * Random Forest\n",
    "    * Linear SVM model\n",
    "    * Gausian Naive Bayes\n",
    "\n",
    "* Models with Cross-validation"
   ]
  },
  {
   "cell_type": "code",
   "execution_count": 1,
   "metadata": {},
   "outputs": [
    {
     "name": "stderr",
     "output_type": "stream",
     "text": [
      "COMET INFO: Experiment is live on comet.ml https://www.comet.ml/bfaria-eeg/eeg-trauma/b860332cb4ea447d81a9a2aca1538496\n",
      "\n"
     ]
    }
   ],
   "source": [
    "# import comet_ml in the top of your file\n",
    "from comet_ml import Experiment\n",
    "    \n",
    "# Add the following code anywhere in your machine learning file\n",
    "experiment = Experiment(api_key=\"MBGyCd1hOFVR5EcPbUFAX8MHV\",\n",
    "                        project_name=\"eeg-trauma\", workspace=\"bfaria-eeg\")"
   ]
  },
  {
   "cell_type": "code",
   "execution_count": 2,
   "metadata": {
    "id": "W7FiCYqOR54j"
   },
   "outputs": [],
   "source": [
    "import pandas as pd\n",
    "import numpy as np\n",
    "import matplotlib.pyplot as plt\n",
    "import seaborn as sns\n",
    "\n",
    "from sklearn.model_selection import train_test_split, GridSearchCV, cross_val_predict, cross_val_score\n",
    "from sklearn.preprocessing import StandardScaler\n",
    "from sklearn.metrics import roc_auc_score, accuracy_score, confusion_matrix\n",
    "from sklearn.ensemble import RandomForestClassifier\n",
    "from sklearn.naive_bayes import GaussianNB\n",
    "from sklearn.svm import SVC\n",
    "\n",
    "from imblearn.ensemble import BalancedRandomForestClassifier\n",
    "from imblearn.metrics import sensitivity_score, specificity_score\n",
    "\n",
    "import warnings\n",
    "warnings.filterwarnings('ignore')"
   ]
  },
  {
   "cell_type": "code",
   "execution_count": 3,
   "metadata": {},
   "outputs": [],
   "source": [
    "data_all = pd.read_csv('../mldataset/allfeatures.csv')\n",
    "data_ml = pd.read_csv('../mldataset/featuresML.csv')\n",
    "data_pval = pd.read_csv('../mldataset/featuresPVAL.csv')\n",
    "data_inter = pd.read_csv('../mldataset/featuresINTER.csv')"
   ]
  },
  {
   "cell_type": "code",
   "execution_count": 4,
   "metadata": {
    "id": "I3Char8kejSR"
   },
   "outputs": [
    {
     "data": {
      "text/html": [
       "<div>\n",
       "<style scoped>\n",
       "    .dataframe tbody tr th:only-of-type {\n",
       "        vertical-align: middle;\n",
       "    }\n",
       "\n",
       "    .dataframe tbody tr th {\n",
       "        vertical-align: top;\n",
       "    }\n",
       "\n",
       "    .dataframe thead th {\n",
       "        text-align: right;\n",
       "    }\n",
       "</style>\n",
       "<table border=\"1\" class=\"dataframe\">\n",
       "  <thead>\n",
       "    <tr style=\"text-align: right;\">\n",
       "      <th></th>\n",
       "      <th>coh_nofilt_fp1_fp2</th>\n",
       "      <th>coh_nofilt_fp1_f7</th>\n",
       "      <th>coh_nofilt_fp1_f3</th>\n",
       "      <th>coh_nofilt_fp1_fz</th>\n",
       "      <th>coh_nofilt_fp1_f4</th>\n",
       "      <th>coh_nofilt_fp1_f8</th>\n",
       "      <th>coh_nofilt_fp1_t3</th>\n",
       "      <th>coh_nofilt_fp1_c3</th>\n",
       "      <th>coh_nofilt_fp1_c4</th>\n",
       "      <th>coh_nofilt_fp1_t4</th>\n",
       "      <th>...</th>\n",
       "      <th>psi_alpha_o2_t3</th>\n",
       "      <th>psi_alpha_o2_c3</th>\n",
       "      <th>psi_alpha_o2_c4</th>\n",
       "      <th>psi_alpha_o2_t4</th>\n",
       "      <th>psi_alpha_o2_t5</th>\n",
       "      <th>psi_alpha_o2_p3</th>\n",
       "      <th>psi_alpha_o2_pz</th>\n",
       "      <th>psi_alpha_o2_p4</th>\n",
       "      <th>psi_alpha_o2_t6</th>\n",
       "      <th>psi_alpha_o2_o1</th>\n",
       "    </tr>\n",
       "  </thead>\n",
       "  <tbody>\n",
       "    <tr>\n",
       "      <th>0</th>\n",
       "      <td>0.849397</td>\n",
       "      <td>0.877339</td>\n",
       "      <td>0.857365</td>\n",
       "      <td>0.864015</td>\n",
       "      <td>0.795604</td>\n",
       "      <td>0.715263</td>\n",
       "      <td>0.611386</td>\n",
       "      <td>0.674974</td>\n",
       "      <td>0.672999</td>\n",
       "      <td>0.609560</td>\n",
       "      <td>...</td>\n",
       "      <td>1.137330</td>\n",
       "      <td>-2.535512</td>\n",
       "      <td>2.851893</td>\n",
       "      <td>-2.413355</td>\n",
       "      <td>-7.886247</td>\n",
       "      <td>-3.430358</td>\n",
       "      <td>-2.940278</td>\n",
       "      <td>4.755336</td>\n",
       "      <td>-2.372887</td>\n",
       "      <td>-6.151342</td>\n",
       "    </tr>\n",
       "    <tr>\n",
       "      <th>1</th>\n",
       "      <td>0.682347</td>\n",
       "      <td>0.795053</td>\n",
       "      <td>0.775378</td>\n",
       "      <td>0.657702</td>\n",
       "      <td>0.641092</td>\n",
       "      <td>0.713337</td>\n",
       "      <td>0.647718</td>\n",
       "      <td>0.536908</td>\n",
       "      <td>0.380917</td>\n",
       "      <td>0.541196</td>\n",
       "      <td>...</td>\n",
       "      <td>-0.069698</td>\n",
       "      <td>-0.223584</td>\n",
       "      <td>2.826703</td>\n",
       "      <td>-5.645081</td>\n",
       "      <td>-0.023241</td>\n",
       "      <td>-0.928270</td>\n",
       "      <td>1.025139</td>\n",
       "      <td>2.125412</td>\n",
       "      <td>0.000000</td>\n",
       "      <td>-0.129469</td>\n",
       "    </tr>\n",
       "    <tr>\n",
       "      <th>2</th>\n",
       "      <td>0.897231</td>\n",
       "      <td>0.847988</td>\n",
       "      <td>0.861601</td>\n",
       "      <td>0.828406</td>\n",
       "      <td>0.752612</td>\n",
       "      <td>0.744819</td>\n",
       "      <td>0.581250</td>\n",
       "      <td>0.791440</td>\n",
       "      <td>0.517047</td>\n",
       "      <td>0.518814</td>\n",
       "      <td>...</td>\n",
       "      <td>5.719148</td>\n",
       "      <td>4.841813</td>\n",
       "      <td>-4.843460</td>\n",
       "      <td>-2.764540</td>\n",
       "      <td>-1.046704</td>\n",
       "      <td>-2.972760</td>\n",
       "      <td>-6.569496</td>\n",
       "      <td>-2.928576</td>\n",
       "      <td>-0.443500</td>\n",
       "      <td>-0.663475</td>\n",
       "    </tr>\n",
       "    <tr>\n",
       "      <th>3</th>\n",
       "      <td>0.755840</td>\n",
       "      <td>0.844175</td>\n",
       "      <td>0.833709</td>\n",
       "      <td>0.886321</td>\n",
       "      <td>0.793390</td>\n",
       "      <td>0.741746</td>\n",
       "      <td>0.808783</td>\n",
       "      <td>0.861057</td>\n",
       "      <td>0.766067</td>\n",
       "      <td>0.809645</td>\n",
       "      <td>...</td>\n",
       "      <td>1.910294</td>\n",
       "      <td>0.064580</td>\n",
       "      <td>1.450907</td>\n",
       "      <td>-1.034041</td>\n",
       "      <td>-0.911907</td>\n",
       "      <td>-1.693191</td>\n",
       "      <td>-1.263543</td>\n",
       "      <td>-3.622760</td>\n",
       "      <td>-2.166221</td>\n",
       "      <td>1.226381</td>\n",
       "    </tr>\n",
       "    <tr>\n",
       "      <th>4</th>\n",
       "      <td>0.639640</td>\n",
       "      <td>0.906704</td>\n",
       "      <td>0.887078</td>\n",
       "      <td>0.892046</td>\n",
       "      <td>0.588968</td>\n",
       "      <td>0.631242</td>\n",
       "      <td>0.710337</td>\n",
       "      <td>0.635790</td>\n",
       "      <td>0.448039</td>\n",
       "      <td>0.564691</td>\n",
       "      <td>...</td>\n",
       "      <td>2.343783</td>\n",
       "      <td>-0.019518</td>\n",
       "      <td>-0.481569</td>\n",
       "      <td>1.608233</td>\n",
       "      <td>0.394639</td>\n",
       "      <td>0.247216</td>\n",
       "      <td>0.442689</td>\n",
       "      <td>0.863781</td>\n",
       "      <td>-0.006938</td>\n",
       "      <td>-0.153289</td>\n",
       "    </tr>\n",
       "    <tr>\n",
       "      <th>...</th>\n",
       "      <td>...</td>\n",
       "      <td>...</td>\n",
       "      <td>...</td>\n",
       "      <td>...</td>\n",
       "      <td>...</td>\n",
       "      <td>...</td>\n",
       "      <td>...</td>\n",
       "      <td>...</td>\n",
       "      <td>...</td>\n",
       "      <td>...</td>\n",
       "      <td>...</td>\n",
       "      <td>...</td>\n",
       "      <td>...</td>\n",
       "      <td>...</td>\n",
       "      <td>...</td>\n",
       "      <td>...</td>\n",
       "      <td>...</td>\n",
       "      <td>...</td>\n",
       "      <td>...</td>\n",
       "      <td>...</td>\n",
       "      <td>...</td>\n",
       "    </tr>\n",
       "    <tr>\n",
       "      <th>180</th>\n",
       "      <td>0.396877</td>\n",
       "      <td>0.656498</td>\n",
       "      <td>0.576064</td>\n",
       "      <td>0.494556</td>\n",
       "      <td>0.420211</td>\n",
       "      <td>0.428643</td>\n",
       "      <td>0.563125</td>\n",
       "      <td>0.661773</td>\n",
       "      <td>0.500596</td>\n",
       "      <td>0.401992</td>\n",
       "      <td>...</td>\n",
       "      <td>-134.552255</td>\n",
       "      <td>-148.020175</td>\n",
       "      <td>-174.643489</td>\n",
       "      <td>-128.884761</td>\n",
       "      <td>-141.926243</td>\n",
       "      <td>-110.660944</td>\n",
       "      <td>-153.216632</td>\n",
       "      <td>-11.502160</td>\n",
       "      <td>-156.376620</td>\n",
       "      <td>-173.192321</td>\n",
       "    </tr>\n",
       "    <tr>\n",
       "      <th>181</th>\n",
       "      <td>0.462236</td>\n",
       "      <td>0.467286</td>\n",
       "      <td>0.384045</td>\n",
       "      <td>0.431943</td>\n",
       "      <td>0.400531</td>\n",
       "      <td>0.356827</td>\n",
       "      <td>0.378937</td>\n",
       "      <td>0.367412</td>\n",
       "      <td>0.380954</td>\n",
       "      <td>0.357517</td>\n",
       "      <td>...</td>\n",
       "      <td>-15.981099</td>\n",
       "      <td>-18.816348</td>\n",
       "      <td>-18.183475</td>\n",
       "      <td>-11.601831</td>\n",
       "      <td>-7.541968</td>\n",
       "      <td>-16.935812</td>\n",
       "      <td>-17.919610</td>\n",
       "      <td>-14.430107</td>\n",
       "      <td>-6.426578</td>\n",
       "      <td>-7.388289</td>\n",
       "    </tr>\n",
       "    <tr>\n",
       "      <th>182</th>\n",
       "      <td>0.833737</td>\n",
       "      <td>0.924463</td>\n",
       "      <td>0.834045</td>\n",
       "      <td>0.797401</td>\n",
       "      <td>0.716631</td>\n",
       "      <td>0.788221</td>\n",
       "      <td>0.774200</td>\n",
       "      <td>0.666065</td>\n",
       "      <td>0.550072</td>\n",
       "      <td>0.700391</td>\n",
       "      <td>...</td>\n",
       "      <td>5.923263</td>\n",
       "      <td>7.676919</td>\n",
       "      <td>19.279992</td>\n",
       "      <td>37.209661</td>\n",
       "      <td>3.557597</td>\n",
       "      <td>3.770691</td>\n",
       "      <td>4.755026</td>\n",
       "      <td>0.985402</td>\n",
       "      <td>3.500394</td>\n",
       "      <td>0.911847</td>\n",
       "    </tr>\n",
       "    <tr>\n",
       "      <th>183</th>\n",
       "      <td>0.611631</td>\n",
       "      <td>0.875651</td>\n",
       "      <td>0.906435</td>\n",
       "      <td>0.882049</td>\n",
       "      <td>0.470444</td>\n",
       "      <td>0.513214</td>\n",
       "      <td>0.730145</td>\n",
       "      <td>0.792010</td>\n",
       "      <td>0.396715</td>\n",
       "      <td>0.473648</td>\n",
       "      <td>...</td>\n",
       "      <td>-26.785091</td>\n",
       "      <td>51.345199</td>\n",
       "      <td>-32.453846</td>\n",
       "      <td>-37.773608</td>\n",
       "      <td>70.624488</td>\n",
       "      <td>-18.838973</td>\n",
       "      <td>-11.220369</td>\n",
       "      <td>-21.244065</td>\n",
       "      <td>-10.816045</td>\n",
       "      <td>-16.059869</td>\n",
       "    </tr>\n",
       "    <tr>\n",
       "      <th>184</th>\n",
       "      <td>0.826434</td>\n",
       "      <td>0.938470</td>\n",
       "      <td>0.894640</td>\n",
       "      <td>0.811305</td>\n",
       "      <td>0.745705</td>\n",
       "      <td>0.788262</td>\n",
       "      <td>0.724616</td>\n",
       "      <td>0.715154</td>\n",
       "      <td>0.539488</td>\n",
       "      <td>0.708726</td>\n",
       "      <td>...</td>\n",
       "      <td>0.775611</td>\n",
       "      <td>0.600841</td>\n",
       "      <td>1.936752</td>\n",
       "      <td>1.110975</td>\n",
       "      <td>0.229006</td>\n",
       "      <td>-2.177461</td>\n",
       "      <td>-2.782196</td>\n",
       "      <td>2.251717</td>\n",
       "      <td>0.109154</td>\n",
       "      <td>-0.481069</td>\n",
       "    </tr>\n",
       "  </tbody>\n",
       "</table>\n",
       "<p>185 rows × 1451 columns</p>\n",
       "</div>"
      ],
      "text/plain": [
       "     coh_nofilt_fp1_fp2  coh_nofilt_fp1_f7  coh_nofilt_fp1_f3  \\\n",
       "0              0.849397           0.877339           0.857365   \n",
       "1              0.682347           0.795053           0.775378   \n",
       "2              0.897231           0.847988           0.861601   \n",
       "3              0.755840           0.844175           0.833709   \n",
       "4              0.639640           0.906704           0.887078   \n",
       "..                  ...                ...                ...   \n",
       "180            0.396877           0.656498           0.576064   \n",
       "181            0.462236           0.467286           0.384045   \n",
       "182            0.833737           0.924463           0.834045   \n",
       "183            0.611631           0.875651           0.906435   \n",
       "184            0.826434           0.938470           0.894640   \n",
       "\n",
       "     coh_nofilt_fp1_fz  coh_nofilt_fp1_f4  coh_nofilt_fp1_f8  \\\n",
       "0             0.864015           0.795604           0.715263   \n",
       "1             0.657702           0.641092           0.713337   \n",
       "2             0.828406           0.752612           0.744819   \n",
       "3             0.886321           0.793390           0.741746   \n",
       "4             0.892046           0.588968           0.631242   \n",
       "..                 ...                ...                ...   \n",
       "180           0.494556           0.420211           0.428643   \n",
       "181           0.431943           0.400531           0.356827   \n",
       "182           0.797401           0.716631           0.788221   \n",
       "183           0.882049           0.470444           0.513214   \n",
       "184           0.811305           0.745705           0.788262   \n",
       "\n",
       "     coh_nofilt_fp1_t3  coh_nofilt_fp1_c3  coh_nofilt_fp1_c4  \\\n",
       "0             0.611386           0.674974           0.672999   \n",
       "1             0.647718           0.536908           0.380917   \n",
       "2             0.581250           0.791440           0.517047   \n",
       "3             0.808783           0.861057           0.766067   \n",
       "4             0.710337           0.635790           0.448039   \n",
       "..                 ...                ...                ...   \n",
       "180           0.563125           0.661773           0.500596   \n",
       "181           0.378937           0.367412           0.380954   \n",
       "182           0.774200           0.666065           0.550072   \n",
       "183           0.730145           0.792010           0.396715   \n",
       "184           0.724616           0.715154           0.539488   \n",
       "\n",
       "     coh_nofilt_fp1_t4  ...  psi_alpha_o2_t3  psi_alpha_o2_c3  \\\n",
       "0             0.609560  ...         1.137330        -2.535512   \n",
       "1             0.541196  ...        -0.069698        -0.223584   \n",
       "2             0.518814  ...         5.719148         4.841813   \n",
       "3             0.809645  ...         1.910294         0.064580   \n",
       "4             0.564691  ...         2.343783        -0.019518   \n",
       "..                 ...  ...              ...              ...   \n",
       "180           0.401992  ...      -134.552255      -148.020175   \n",
       "181           0.357517  ...       -15.981099       -18.816348   \n",
       "182           0.700391  ...         5.923263         7.676919   \n",
       "183           0.473648  ...       -26.785091        51.345199   \n",
       "184           0.708726  ...         0.775611         0.600841   \n",
       "\n",
       "     psi_alpha_o2_c4  psi_alpha_o2_t4  psi_alpha_o2_t5  psi_alpha_o2_p3  \\\n",
       "0           2.851893        -2.413355        -7.886247        -3.430358   \n",
       "1           2.826703        -5.645081        -0.023241        -0.928270   \n",
       "2          -4.843460        -2.764540        -1.046704        -2.972760   \n",
       "3           1.450907        -1.034041        -0.911907        -1.693191   \n",
       "4          -0.481569         1.608233         0.394639         0.247216   \n",
       "..               ...              ...              ...              ...   \n",
       "180      -174.643489      -128.884761      -141.926243      -110.660944   \n",
       "181       -18.183475       -11.601831        -7.541968       -16.935812   \n",
       "182        19.279992        37.209661         3.557597         3.770691   \n",
       "183       -32.453846       -37.773608        70.624488       -18.838973   \n",
       "184         1.936752         1.110975         0.229006        -2.177461   \n",
       "\n",
       "     psi_alpha_o2_pz  psi_alpha_o2_p4  psi_alpha_o2_t6  psi_alpha_o2_o1  \n",
       "0          -2.940278         4.755336        -2.372887        -6.151342  \n",
       "1           1.025139         2.125412         0.000000        -0.129469  \n",
       "2          -6.569496        -2.928576        -0.443500        -0.663475  \n",
       "3          -1.263543        -3.622760        -2.166221         1.226381  \n",
       "4           0.442689         0.863781        -0.006938        -0.153289  \n",
       "..               ...              ...              ...              ...  \n",
       "180      -153.216632       -11.502160      -156.376620      -173.192321  \n",
       "181       -17.919610       -14.430107        -6.426578        -7.388289  \n",
       "182         4.755026         0.985402         3.500394         0.911847  \n",
       "183       -11.220369       -21.244065       -10.816045       -16.059869  \n",
       "184        -2.782196         2.251717         0.109154        -0.481069  \n",
       "\n",
       "[185 rows x 1451 columns]"
      ]
     },
     "execution_count": 4,
     "metadata": {},
     "output_type": "execute_result"
    }
   ],
   "source": [
    "data_all"
   ]
  },
  {
   "cell_type": "code",
   "execution_count": 5,
   "metadata": {
    "colab": {
     "base_uri": "https://localhost:8080/",
     "height": 424
    },
    "id": "QlXDE4O0fDel",
    "outputId": "858ac85f-37f3-4bd1-b1e4-4e7926d09ad3"
   },
   "outputs": [
    {
     "name": "stdout",
     "output_type": "stream",
     "text": [
      "(185, 31)\n"
     ]
    },
    {
     "data": {
      "text/plain": [
       "Index(['coh_nofilt_fp1_f3', 'coh_nofilt_fp2_pz', 'coh_nofilt_f7_t3',\n",
       "       'coh_nofilt_t3_c3', 'coh_beta_fp1_f3', 'coh_beta_fp2_o2',\n",
       "       'coh_beta_f7_t3', 'coh_beta_f8_t4', 'coh_beta_t3_c3', 'coh_beta_t3_t5',\n",
       "       'coh_theta_f7_o2', 'env_nofilt_f7_c3', 'env_nofilt_t3_c3',\n",
       "       'env_nofilt_t3_p4', 'env_nofilt_c3_t4', 'env_nofilt_p4_o2',\n",
       "       'env_alpha_t3_t5', 'env_beta_fp1_f3', 'env_beta_t3_c3',\n",
       "       'env_beta_t3_c4', 'env_beta_t3_t4', 'env_theta_t3_c4',\n",
       "       'env_theta_c3_t4', 'bands_beta_f8', 'bands_theta_f8', 'bands_beta_t3',\n",
       "       'bands_gamma_t3', 'bands_beta_t4', 'psi_alpha_fz_fp1', 'fn', 'target'],\n",
       "      dtype='object')"
      ]
     },
     "execution_count": 5,
     "metadata": {},
     "output_type": "execute_result"
    }
   ],
   "source": [
    "print(data_ml.shape)\n",
    "data_ml.columns"
   ]
  },
  {
   "cell_type": "code",
   "execution_count": 6,
   "metadata": {},
   "outputs": [
    {
     "name": "stdout",
     "output_type": "stream",
     "text": [
      "(185, 28)\n"
     ]
    },
    {
     "data": {
      "text/plain": [
       "Index(['coh_nofilt_fp1_c4', 'coh_nofilt_fp2_c3', 'coh_nofilt_f4_f8',\n",
       "       'coh_nofilt_f8_t4', 'coh_nofilt_t4_p4', 'coh_nofilt_t4_t6',\n",
       "       'coh_nofilt_t5_p3', 'coh_nofilt_t5_o1', 'coh_nofilt_p4_t6',\n",
       "       'coh_alpha_fp2_pz', 'coh_alpha_f8_t4', 'coh_alpha_t3_c3',\n",
       "       'coh_alpha_t3_p4', 'coh_alpha_t5_p3', 'coh_alpha_t5_o1',\n",
       "       'coh_alpha_pz_p4', 'coh_alpha_pz_o2', 'coh_theta_f3_t3',\n",
       "       'env_nofilt_fp1_t4', 'env_nofilt_f4_c4', 'env_nofilt_f8_c4',\n",
       "       'env_nofilt_f8_t4', 'env_beta_fp1_c4', 'env_beta_fp2_t5',\n",
       "       'bands_gamma_fp1', 'bands_beta_t3', 'psi_alpha_fp2_fp1', 'fn'],\n",
       "      dtype='object')"
      ]
     },
     "execution_count": 6,
     "metadata": {},
     "output_type": "execute_result"
    }
   ],
   "source": [
    "print(data_pval.shape)\n",
    "data_pval.columns"
   ]
  },
  {
   "cell_type": "code",
   "execution_count": 7,
   "metadata": {},
   "outputs": [
    {
     "name": "stdout",
     "output_type": "stream",
     "text": [
      "(185, 8)\n"
     ]
    },
    {
     "data": {
      "text/plain": [
       "Index(['coh_nofilt_fp1_f7', 'coh_nofilt_f8_t4', 'env_nofilt_c4_t6',\n",
       "       'env_nofilt_t4_p4', 'env_beta_fp1_c4', 'bands_beta_t3', 'target', 'fn'],\n",
       "      dtype='object')"
      ]
     },
     "execution_count": 7,
     "metadata": {},
     "output_type": "execute_result"
    }
   ],
   "source": [
    "print(data_inter.shape)\n",
    "data_inter.columns"
   ]
  },
  {
   "cell_type": "markdown",
   "metadata": {},
   "source": [
    "# 1) Classification task using All features"
   ]
  },
  {
   "cell_type": "code",
   "execution_count": 14,
   "metadata": {},
   "outputs": [],
   "source": [
    "def rfc_grid(X,y):\n",
    "\n",
    "    grid={'n_estimators':[10, 100, 300, 500], 'max_features': ['auto', 'sqrt', 'log2'],\"class_weight\":['none','balanced']}\n",
    "\n",
    "    rdf=RandomForestClassifier(random_state=101)\n",
    "\n",
    "    rdf_cv=GridSearchCV(rdf,grid,cv=10, n_jobs=-1)\n",
    "    rdf_cv.fit(X,y)\n",
    "\n",
    "    print(\"tuned hpyerparameters :(best parameters) \",rdf_cv.best_params_)\n",
    "    print(\"accuracy :\",rdf_cv.best_score_)\n",
    "\n",
    "    for i in range(len(rdf_cv.cv_results_['params'])):\n",
    "        for k,v in rdf_cv.cv_results_.items():\n",
    "            if k == \"params\":\n",
    "                experiment.log_parameters(v[i])\n",
    "            else:\n",
    "                experiment.log_metric(k,v[i])\n",
    "\n",
    "def svc_grid(X,y):\n",
    "\n",
    "    grid={'C':[1,10, 100], 'kernel': ['linear','rbf'],\"class_weight\":['none','balanced']}\n",
    "\n",
    "    svc=SVC(random_state=101)\n",
    "\n",
    "    svc_cv=GridSearchCV(svc,grid,cv=10, n_jobs=-1)\n",
    "    svc_cv.fit(X,y)\n",
    "\n",
    "    print(\"tuned hpyerparameters :(best parameters) \",svc_cv.best_params_)\n",
    "    print(\"accuracy :\",svc_cv.best_score_)\n",
    "\n",
    "    for i in range(len(svc_cv.cv_results_['params'])):\n",
    "        for k,v in svc_cv.cv_results_.items():\n",
    "            if k == \"params\":\n",
    "                experiment.log_parameters(v[i])\n",
    "            else:\n",
    "                experiment.log_metric(k,v[i])\n",
    "                \n",
    "def cal_meth(model, X, X_train, X_test, y_train, y_test, out):\n",
    "    \n",
    "    model.fit(X_train, y_train)\n",
    "\n",
    "    y_pred_trainp = cross_val_predict(model, X_train, y_train, method='predict_proba', cv=10)[:,1] \n",
    "    y_predp = cross_val_predict(model, X_test, y_test, method='predict_proba', cv=10)[:,1] \n",
    "    y_allp = cross_val_predict(model, X, y, method='predict_proba', cv=10)[:,1]\n",
    "    roc_train = roc_auc_score(y_train, y_pred_trainp)\n",
    "    roc_test = roc_auc_score(y_test, y_predp)\n",
    "    roc_all = roc_auc_score(y, y_allp)\n",
    "    print('ROC_AUC score train: ', roc_train)\n",
    "    print('ROC_AUC score test: ', roc_train)\n",
    "    print('ROC_AUC score all: ', roc_all)\n",
    "    \n",
    "    y_pred_train = cross_val_predict(model, X_train, y_train, method='predict', cv=10)\n",
    "    y_pred = cross_val_predict(model, X_test, y_test, method='predict', cv=10)\n",
    "    y_pall = cross_val_predict(model, X, y, method='predict', cv=10)\n",
    "    \n",
    "    acc_all = accuracy_score(y,y_pall)\n",
    "    print('accuracy for all: ', acc_all)\n",
    "    \n",
    "    sen_train = sensitivity_score(y_train, y_pred_train)\n",
    "    sen_test = sensitivity_score(y_test, y_pred)\n",
    "    sen_all = sensitivity_score(y, y_pall)\n",
    "    spe_train = specificity_score(y_train, y_pred_train)\n",
    "    spe_test = specificity_score(y_test, y_pred)\n",
    "    spe_all = specificity_score(y, y_pall)\n",
    "    print('Sensitivity for train: ', sen_train)\n",
    "    print('Sensitivity for test: ', sen_test)\n",
    "    print('Sensitivity for all: ', sen_all)\n",
    "    print('Specificity for train: ', spe_train)\n",
    "    print('Specificity for test: ', spe_test)\n",
    "    print('Specificity for all: ', spe_all)\n",
    "    conf = confusion_matrix(y_test, y_pred)\n",
    "    print('Confusion matrix')\n",
    "    print(confusion_matrix(y_test, y_pred))\n",
    "\n",
    "    #these will be logged to your sklearn-demos project on Comet.ml\n",
    "    params={\"random_state\":101,\n",
    "            \"model_type\":out,\n",
    "            \"scaler\":\"standard scaler\"}\n",
    "\n",
    "    metrics = {\"roc_auc_score\":roc_train,\n",
    "    \"sensitivity\":sen_train,\n",
    "    \"specificity\":spe_train\n",
    "    }\n",
    "\n",
    "    experiment.log_dataset_hash(X_train)\n",
    "    experiment.log_parameters(params)\n",
    "    experiment.log_metrics(metrics)\n",
    "    experiment.log_confusion_matrix(matrix=conf, title='CM for {} model predictions'.format(out))\n",
    "\n",
    "def gnb_meth(X, X_train, X_test, y_train, y_test,out):\n",
    "    \n",
    "    gnb = GaussianNB().fit(X_train, y_train) \n",
    "\n",
    "    y_pred_trainp = cross_val_predict(gnb, X_train, y_train, method='predict_proba', cv=10)[:,1] \n",
    "    y_predp = cross_val_predict(gnb, X_test, y_test, method='predict_proba', cv=10)[:,1] \n",
    "    y_allp = cross_val_predict(gnb, X, y, method='predict_proba', cv=10)[:,1]\n",
    "    roc_train = roc_auc_score(y_train, y_pred_trainp)\n",
    "    roc_test = roc_auc_score(y_test, y_predp)\n",
    "    roc_all = roc_auc_score(y, y_allp)\n",
    "    print('ROC_AUC score train: ', roc_train)\n",
    "    print('ROC_AUC score test: ', roc_train)\n",
    "    print('ROC_AUC score all: ', roc_all)\n",
    "\n",
    "    y_pred_train = cross_val_predict(gnb, X_train, y_train, method='predict', cv=10)\n",
    "    y_pred = cross_val_predict(gnb, X_test, y_test, method='predict', cv=10)\n",
    "    y_pall = cross_val_predict(gnb, X, y, method='predict', cv=10)\n",
    "    \n",
    "    acc_all = accuracy_score(y,y_pall)\n",
    "    print('accuracy for all: ', acc_all)\n",
    "    \n",
    "    sen_train = sensitivity_score(y_train, y_pred_train)\n",
    "    sen_test = sensitivity_score(y_test, y_pred)\n",
    "    sen_all = sensitivity_score(y, y_pall)\n",
    "    spe_train = specificity_score(y_train, y_pred_train)\n",
    "    spe_test = specificity_score(y_test, y_pred)\n",
    "    spe_all = specificity_score(y, y_pall)\n",
    "    print('Sensitivity for train: ', sen_train)\n",
    "    print('Sensitivity for test: ', sen_test)\n",
    "    print('Sensitivity for all: ', sen_all)\n",
    "    print('Specificity for train: ', spe_train)\n",
    "    print('Specificity for test: ', spe_test)\n",
    "    print('Specificity for all: ', spe_all)\n",
    "    conf = confusion_matrix(y_test, y_pred)\n",
    "    print('Confusion matrix')\n",
    "    print(confusion_matrix(y_test, y_pred))\n",
    "\n",
    "    #these will be logged to your sklearn-demos project on Comet.ml\n",
    "    params={\"model_type\":\"gnb\",\n",
    "            \"scaler\":\"standard scaler\"}\n",
    "\n",
    "    metrics = {\"roc_auc_score\":roc_train,\n",
    "    \"sensitivity\":sen_train,\n",
    "    \"specificity\":spe_train\n",
    "    }\n",
    "\n",
    "    experiment.log_dataset_hash(X_train_sc)\n",
    "    experiment.log_metrics(metrics)\n",
    "    experiment.log_confusion_matrix(matrix=conf, title='CM for {} model predictions'.format(out))"
   ]
  },
  {
   "cell_type": "code",
   "execution_count": 9,
   "metadata": {
    "id": "QCalUOKzfEUT"
   },
   "outputs": [],
   "source": [
    "data_all['target'] = data_all['target'].apply(lambda x: 0 if x=='healthy' else 1 if x=='trauma' else None)  \n",
    "X = data_all.drop(['fn','target'], axis=1)\n",
    "y = data_all.target"
   ]
  },
  {
   "cell_type": "code",
   "execution_count": 10,
   "metadata": {
    "id": "7pth9lSYfPsC"
   },
   "outputs": [],
   "source": [
    "X_train, X_test, y_train, y_test = train_test_split(X, y, test_size=0.3)\n",
    "\n",
    "scaler = StandardScaler()\n",
    "X_train_sc = scaler.fit_transform(X_train)\n",
    "X_test_sc = scaler.fit_transform(X_test)\n",
    "X_sc = scaler.fit_transform(X)"
   ]
  },
  {
   "cell_type": "code",
   "execution_count": 11,
   "metadata": {
    "colab": {
     "base_uri": "https://localhost:8080/",
     "height": 296
    },
    "id": "4JVxaDpefXmf",
    "outputId": "044a1411-add6-41d5-bb69-66963260f5a2"
   },
   "outputs": [
    {
     "data": {
      "text/plain": [
       "<matplotlib.axes._subplots.AxesSubplot at 0x7f8521c85e80>"
      ]
     },
     "execution_count": 11,
     "metadata": {},
     "output_type": "execute_result"
    },
    {
     "data": {
      "image/png": "[encoded data removed]",
      "text/plain": [
       "<Figure size 576x288 with 2 Axes>"
      ]
     },
     "metadata": {},
     "output_type": "display_data"
    }
   ],
   "source": [
    "fig, axs = plt.subplots(1,2, figsize=[8,4])\n",
    "sns.countplot(y_train, ax=axs[0])\n",
    "sns.countplot(y_test, ax=axs[1])"
   ]
  },
  {
   "cell_type": "code",
   "execution_count": 12,
   "metadata": {},
   "outputs": [
    {
     "name": "stdout",
     "output_type": "stream",
     "text": [
      "tuned hpyerparameters :(best parameters)  {'class_weight': 'balanced', 'max_features': 'auto', 'n_estimators': 300}\n",
      "accuracy : 0.8294871794871795\n"
     ]
    }
   ],
   "source": [
    "rfc_grid(X_train_sc,y_train)"
   ]
  },
  {
   "cell_type": "code",
   "execution_count": 15,
   "metadata": {
    "id": "idetDzFmfbpA"
   },
   "outputs": [
    {
     "name": "stdout",
     "output_type": "stream",
     "text": [
      "ROC_AUC score train:  0.8540730337078654\n",
      "ROC_AUC score test:  0.8540730337078654\n",
      "ROC_AUC score all:  0.8214808311384255\n",
      "accuracy for all:  0.7837837837837838\n",
      "Sensitivity for train:  0.6\n",
      "Sensitivity for test:  0.0\n",
      "Sensitivity for all:  0.49019607843137253\n",
      "Specificity for train:  0.9325842696629213\n",
      "Specificity for test:  1.0\n",
      "Specificity for all:  0.8955223880597015\n",
      "Confusion matrix\n",
      "[[45  0]\n",
      " [11  0]]\n"
     ]
    }
   ],
   "source": [
    "rdf = RandomForestClassifier(max_features='auto', n_estimators=300, class_weight='balanced', random_state=101)\n",
    "cal_meth(rdf,X_sc,X_train_sc,X_test_sc,y_train,y_test, 'RFC')"
   ]
  },
  {
   "cell_type": "code",
   "execution_count": 16,
   "metadata": {},
   "outputs": [
    {
     "name": "stdout",
     "output_type": "stream",
     "text": [
      "tuned hpyerparameters :(best parameters)  {'C': 1, 'class_weight': 'balanced', 'kernel': 'rbf'}\n",
      "accuracy : 0.7762820512820513\n"
     ]
    }
   ],
   "source": [
    "svc_grid(X_train_sc,y_train)"
   ]
  },
  {
   "cell_type": "code",
   "execution_count": 17,
   "metadata": {},
   "outputs": [
    {
     "name": "stdout",
     "output_type": "stream",
     "text": [
      "ROC_AUC score train:  0.8460674157303371\n",
      "ROC_AUC score test:  0.8460674157303371\n",
      "ROC_AUC score all:  0.8379426397424641\n",
      "accuracy for all:  0.7945945945945946\n",
      "Sensitivity for train:  0.75\n",
      "Sensitivity for test:  0.36363636363636365\n",
      "Sensitivity for all:  0.7843137254901961\n",
      "Specificity for train:  0.7865168539325843\n",
      "Specificity for test:  0.8888888888888888\n",
      "Specificity for all:  0.7985074626865671\n",
      "Confusion matrix\n",
      "[[40  5]\n",
      " [ 7  4]]\n"
     ]
    }
   ],
   "source": [
    "svc = SVC(C=1, kernel='rbf', class_weight='balanced', random_state=101, probability=True)\n",
    "cal_meth(svc,X_sc,X_train_sc,X_test_sc,y_train,y_test, 'SVC')"
   ]
  },
  {
   "cell_type": "code",
   "execution_count": 19,
   "metadata": {},
   "outputs": [
    {
     "name": "stdout",
     "output_type": "stream",
     "text": [
      "ROC_AUC score train:  0.800561797752809\n",
      "ROC_AUC score test:  0.800561797752809\n",
      "ROC_AUC score all:  0.6145741878841088\n",
      "accuracy for all:  0.5027027027027027\n",
      "Sensitivity for train:  0.85\n",
      "Sensitivity for test:  0.7272727272727273\n",
      "Sensitivity for all:  0.8431372549019608\n",
      "Specificity for train:  0.7528089887640449\n",
      "Specificity for test:  0.6444444444444445\n",
      "Specificity for all:  0.373134328358209\n",
      "Confusion matrix\n",
      "[[29 16]\n",
      " [ 3  8]]\n"
     ]
    }
   ],
   "source": [
    "gnb_meth(X_sc, X_train_sc, X_test_sc, y_train, y_test, 'GNB')"
   ]
  },
  {
   "cell_type": "markdown",
   "metadata": {},
   "source": [
    "# 2) Classification task using Features from RFE"
   ]
  },
  {
   "cell_type": "code",
   "execution_count": 20,
   "metadata": {},
   "outputs": [],
   "source": [
    "data_ml['target'] = data_ml['target'].apply(lambda x: 0 if x=='healthy' else 1 if x=='trauma' else None)  \n",
    "X = data_ml.drop(['fn','target'], axis=1)\n",
    "y = data_ml.target"
   ]
  },
  {
   "cell_type": "code",
   "execution_count": 21,
   "metadata": {},
   "outputs": [],
   "source": [
    "X_train, X_test, y_train, y_test = train_test_split(X, y, test_size=0.3)\n",
    "\n",
    "scaler = StandardScaler()\n",
    "X_train_sc = scaler.fit_transform(X_train)\n",
    "X_test_sc = scaler.fit_transform(X_test)\n",
    "X_sc = scaler.fit_transform(X)"
   ]
  },
  {
   "cell_type": "code",
   "execution_count": 22,
   "metadata": {},
   "outputs": [
    {
     "data": {
      "text/plain": [
       "<matplotlib.axes._subplots.AxesSubplot at 0x7f8561ac38d0>"
      ]
     },
     "execution_count": 22,
     "metadata": {},
     "output_type": "execute_result"
    },
    {
     "data": {
      "image/png": "[encoded data removed]",
      "text/plain": [
       "<Figure size 576x288 with 2 Axes>"
      ]
     },
     "metadata": {},
     "output_type": "display_data"
    }
   ],
   "source": [
    "fig, axs = plt.subplots(1,2, figsize=[8,4])\n",
    "sns.countplot(y_train, ax=axs[0])\n",
    "sns.countplot(y_test, ax=axs[1])"
   ]
  },
  {
   "cell_type": "code",
   "execution_count": 23,
   "metadata": {},
   "outputs": [
    {
     "name": "stdout",
     "output_type": "stream",
     "text": [
      "tuned hpyerparameters :(best parameters)  {'class_weight': 'balanced', 'max_features': 'auto', 'n_estimators': 300}\n",
      "accuracy : 0.8615384615384617\n"
     ]
    }
   ],
   "source": [
    "rfc_grid(X_train_sc,y_train)"
   ]
  },
  {
   "cell_type": "code",
   "execution_count": 24,
   "metadata": {},
   "outputs": [
    {
     "name": "stdout",
     "output_type": "stream",
     "text": [
      "ROC_AUC score train:  0.8956093189964157\n",
      "ROC_AUC score test:  0.8956093189964157\n",
      "ROC_AUC score all:  0.8957418788410886\n",
      "accuracy for all:  0.8486486486486486\n",
      "Sensitivity for train:  0.6111111111111112\n",
      "Sensitivity for test:  0.8\n",
      "Sensitivity for all:  0.6666666666666666\n",
      "Specificity for train:  0.956989247311828\n",
      "Specificity for test:  0.9512195121951219\n",
      "Specificity for all:  0.917910447761194\n",
      "Confusion matrix\n",
      "[[39  2]\n",
      " [ 3 12]]\n"
     ]
    }
   ],
   "source": [
    "rdf = RandomForestClassifier(max_features='auto', n_estimators=300, class_weight='balanced', random_state=101)\n",
    "cal_meth(rdf,X_sc,X_train_sc,X_test_sc,y_train,y_test, 'RFC_ml')"
   ]
  },
  {
   "cell_type": "code",
   "execution_count": 25,
   "metadata": {},
   "outputs": [
    {
     "name": "stdout",
     "output_type": "stream",
     "text": [
      "tuned hpyerparameters :(best parameters)  {'C': 100, 'class_weight': 'balanced', 'kernel': 'rbf'}\n",
      "accuracy : 0.8448717948717949\n"
     ]
    }
   ],
   "source": [
    "svc_grid(X_train_sc,y_train)"
   ]
  },
  {
   "cell_type": "code",
   "execution_count": 26,
   "metadata": {},
   "outputs": [
    {
     "name": "stdout",
     "output_type": "stream",
     "text": [
      "ROC_AUC score train:  0.8163082437275985\n",
      "ROC_AUC score test:  0.8163082437275985\n",
      "ROC_AUC score all:  0.7878255779923911\n",
      "accuracy for all:  0.772972972972973\n",
      "Sensitivity for train:  0.6111111111111112\n",
      "Sensitivity for test:  0.6666666666666666\n",
      "Sensitivity for all:  0.5882352941176471\n",
      "Specificity for train:  0.9354838709677419\n",
      "Specificity for test:  0.8536585365853658\n",
      "Specificity for all:  0.8432835820895522\n",
      "Confusion matrix\n",
      "[[35  6]\n",
      " [ 5 10]]\n"
     ]
    }
   ],
   "source": [
    "svc = SVC(C=100, kernel='rbf', class_weight='balanced', random_state=101, probability=True)\n",
    "cal_meth(svc,X_sc,X_train_sc,X_test_sc,y_train,y_test, 'SVC_ml')"
   ]
  },
  {
   "cell_type": "code",
   "execution_count": 27,
   "metadata": {},
   "outputs": [
    {
     "name": "stdout",
     "output_type": "stream",
     "text": [
      "ROC_AUC score train:  0.7656810035842294\n",
      "ROC_AUC score test:  0.7656810035842294\n",
      "ROC_AUC score all:  0.8331870061457419\n",
      "accuracy for all:  0.7945945945945946\n",
      "Sensitivity for train:  0.5555555555555556\n",
      "Sensitivity for test:  0.8\n",
      "Sensitivity for all:  0.7254901960784313\n",
      "Specificity for train:  0.8279569892473119\n",
      "Specificity for test:  0.8780487804878049\n",
      "Specificity for all:  0.8208955223880597\n",
      "Confusion matrix\n",
      "[[36  5]\n",
      " [ 3 12]]\n"
     ]
    }
   ],
   "source": [
    "gnb_meth(X_sc, X_train_sc, X_test_sc, y_train, y_test, 'GNB_ml')"
   ]
  },
  {
   "cell_type": "markdown",
   "metadata": {},
   "source": [
    "# 3) Classification task using Features from pval"
   ]
  },
  {
   "cell_type": "code",
   "execution_count": 28,
   "metadata": {},
   "outputs": [],
   "source": [
    "data_pval['target'] = data_all['target']\n",
    "data_pval['target'].apply(lambda x: 0 if x=='healthy' else 1 if x=='trauma' else None)  \n",
    "X = data_pval.drop(['fn','target'], axis=1)\n",
    "y = data_pval.target"
   ]
  },
  {
   "cell_type": "code",
   "execution_count": 29,
   "metadata": {},
   "outputs": [],
   "source": [
    "X_train, X_test, y_train, y_test = train_test_split(X, y, test_size=0.3)\n",
    "\n",
    "scaler = StandardScaler()\n",
    "X_train_sc = scaler.fit_transform(X_train)\n",
    "X_test_sc = scaler.fit_transform(X_test)\n",
    "X_sc = scaler.fit_transform(X)"
   ]
  },
  {
   "cell_type": "code",
   "execution_count": 30,
   "metadata": {},
   "outputs": [
    {
     "data": {
      "text/plain": [
       "<matplotlib.axes._subplots.AxesSubplot at 0x7f8561a79080>"
      ]
     },
     "execution_count": 30,
     "metadata": {},
     "output_type": "execute_result"
    },
    {
     "data": {
      "image/png": "[encoded data removed]",
      "text/plain": [
       "<Figure size 576x288 with 2 Axes>"
      ]
     },
     "metadata": {},
     "output_type": "display_data"
    }
   ],
   "source": [
    "fig, axs = plt.subplots(1,2, figsize=[8,4])\n",
    "sns.countplot(y_train, ax=axs[0])\n",
    "sns.countplot(y_test, ax=axs[1])"
   ]
  },
  {
   "cell_type": "code",
   "execution_count": 31,
   "metadata": {},
   "outputs": [
    {
     "name": "stdout",
     "output_type": "stream",
     "text": [
      "tuned hpyerparameters :(best parameters)  {'class_weight': 'balanced', 'max_features': 'auto', 'n_estimators': 300}\n",
      "accuracy : 0.7679487179487179\n"
     ]
    }
   ],
   "source": [
    "rfc_grid(X_train_sc,y_train)"
   ]
  },
  {
   "cell_type": "code",
   "execution_count": 32,
   "metadata": {},
   "outputs": [
    {
     "name": "stdout",
     "output_type": "stream",
     "text": [
      "ROC_AUC score train:  0.8448033707865168\n",
      "ROC_AUC score test:  0.8448033707865168\n",
      "ROC_AUC score all:  0.8191395961369622\n",
      "accuracy for all:  0.7891891891891892\n",
      "Sensitivity for train:  0.45\n",
      "Sensitivity for test:  0.2727272727272727\n",
      "Sensitivity for all:  0.4117647058823529\n",
      "Specificity for train:  0.9101123595505618\n",
      "Specificity for test:  1.0\n",
      "Specificity for all:  0.9328358208955224\n",
      "Confusion matrix\n",
      "[[45  0]\n",
      " [ 8  3]]\n"
     ]
    }
   ],
   "source": [
    "rdf = RandomForestClassifier(max_features='auto', n_estimators=300, class_weight='balanced', random_state=101)\n",
    "cal_meth(rdf,X_sc,X_train_sc,X_test_sc,y_train,y_test, 'RFC_pval')"
   ]
  },
  {
   "cell_type": "code",
   "execution_count": 33,
   "metadata": {},
   "outputs": [
    {
     "name": "stdout",
     "output_type": "stream",
     "text": [
      "tuned hpyerparameters :(best parameters)  {'C': 1, 'class_weight': 'balanced', 'kernel': 'linear'}\n",
      "accuracy : 0.8294871794871794\n"
     ]
    }
   ],
   "source": [
    "svc_grid(X_train_sc,y_train)"
   ]
  },
  {
   "cell_type": "code",
   "execution_count": 34,
   "metadata": {},
   "outputs": [
    {
     "name": "stdout",
     "output_type": "stream",
     "text": [
      "ROC_AUC score train:  0.8949438202247192\n",
      "ROC_AUC score test:  0.8949438202247192\n",
      "ROC_AUC score all:  0.8700614574187883\n",
      "accuracy for all:  0.8108108108108109\n",
      "Sensitivity for train:  0.825\n",
      "Sensitivity for test:  0.7272727272727273\n",
      "Sensitivity for all:  0.7843137254901961\n",
      "Specificity for train:  0.8314606741573034\n",
      "Specificity for test:  0.9111111111111111\n",
      "Specificity for all:  0.8208955223880597\n",
      "Confusion matrix\n",
      "[[41  4]\n",
      " [ 3  8]]\n"
     ]
    }
   ],
   "source": [
    "svc = SVC(C=1, kernel='linear', class_weight='balanced', random_state=101, probability=True)\n",
    "cal_meth(svc,X_sc,X_train_sc,X_test_sc,y_train,y_test, 'SVC_pval')"
   ]
  },
  {
   "cell_type": "code",
   "execution_count": 35,
   "metadata": {},
   "outputs": [
    {
     "name": "stdout",
     "output_type": "stream",
     "text": [
      "ROC_AUC score train:  0.7289325842696629\n",
      "ROC_AUC score test:  0.7289325842696629\n",
      "ROC_AUC score all:  0.7358062628036289\n",
      "accuracy for all:  0.7189189189189189\n",
      "Sensitivity for train:  0.7\n",
      "Sensitivity for test:  0.7272727272727273\n",
      "Sensitivity for all:  0.6274509803921569\n",
      "Specificity for train:  0.6741573033707865\n",
      "Specificity for test:  0.9111111111111111\n",
      "Specificity for all:  0.753731343283582\n",
      "Confusion matrix\n",
      "[[41  4]\n",
      " [ 3  8]]\n"
     ]
    }
   ],
   "source": [
    "gnb_meth(X_sc, X_train_sc, X_test_sc, y_train, y_test, 'GBN_pval')"
   ]
  },
  {
   "cell_type": "markdown",
   "metadata": {},
   "source": [
    "# 4) Classification task using Features from intersection"
   ]
  },
  {
   "cell_type": "code",
   "execution_count": 36,
   "metadata": {},
   "outputs": [],
   "source": [
    "data_inter['target'] = data_all['target']\n",
    "data_inter['target'].apply(lambda x: 0 if x=='healthy' else 1 if x=='trauma' else None)  \n",
    "X = data_inter.drop(['fn','target'], axis=1)\n",
    "y = data_inter.target"
   ]
  },
  {
   "cell_type": "code",
   "execution_count": 37,
   "metadata": {},
   "outputs": [],
   "source": [
    "X_train, X_test, y_train, y_test = train_test_split(X, y, test_size=0.3)\n",
    "\n",
    "scaler = StandardScaler()\n",
    "X_train_sc = scaler.fit_transform(X_train)\n",
    "X_test_sc = scaler.fit_transform(X_test)\n",
    "X_sc = scaler.fit_transform(X)"
   ]
  },
  {
   "cell_type": "code",
   "execution_count": 38,
   "metadata": {},
   "outputs": [
    {
     "data": {
      "text/plain": [
       "<matplotlib.axes._subplots.AxesSubplot at 0x7f85619e7240>"
      ]
     },
     "execution_count": 38,
     "metadata": {},
     "output_type": "execute_result"
    },
    {
     "data": {
      "image/png": "[encoded data removed]",
      "text/plain": [
       "<Figure size 576x288 with 2 Axes>"
      ]
     },
     "metadata": {},
     "output_type": "display_data"
    }
   ],
   "source": [
    "fig, axs = plt.subplots(1,2, figsize=[8,4])\n",
    "sns.countplot(y_train, ax=axs[0])\n",
    "sns.countplot(y_test, ax=axs[1])"
   ]
  },
  {
   "cell_type": "code",
   "execution_count": 39,
   "metadata": {},
   "outputs": [
    {
     "name": "stdout",
     "output_type": "stream",
     "text": [
      "tuned hpyerparameters :(best parameters)  {'class_weight': 'balanced', 'max_features': 'auto', 'n_estimators': 10}\n",
      "accuracy : 0.860897435897436\n"
     ]
    }
   ],
   "source": [
    "rfc_grid(X_train_sc,y_train)"
   ]
  },
  {
   "cell_type": "code",
   "execution_count": 40,
   "metadata": {},
   "outputs": [
    {
     "name": "stdout",
     "output_type": "stream",
     "text": [
      "ROC_AUC score train:  0.8879419191919191\n",
      "ROC_AUC score test:  0.8879419191919191\n",
      "ROC_AUC score all:  0.7778753292361722\n",
      "accuracy for all:  0.8162162162162162\n",
      "Sensitivity for train:  0.6363636363636364\n",
      "Sensitivity for test:  0.3888888888888889\n",
      "Sensitivity for all:  0.5490196078431373\n",
      "Specificity for train:  0.9375\n",
      "Specificity for test:  0.8947368421052632\n",
      "Specificity for all:  0.917910447761194\n",
      "Confusion matrix\n",
      "[[34  4]\n",
      " [11  7]]\n"
     ]
    }
   ],
   "source": [
    "rdf = RandomForestClassifier(max_features='auto', n_estimators=10, class_weight='balanced', random_state=101)\n",
    "cal_meth(rdf,X_sc,X_train_sc,X_test_sc,y_train,y_test, 'RFC_inter')"
   ]
  },
  {
   "cell_type": "code",
   "execution_count": 41,
   "metadata": {},
   "outputs": [
    {
     "name": "stdout",
     "output_type": "stream",
     "text": [
      "tuned hpyerparameters :(best parameters)  {'C': 10, 'class_weight': 'balanced', 'kernel': 'rbf'}\n",
      "accuracy : 0.8378205128205127\n"
     ]
    }
   ],
   "source": [
    "svc_grid(X_train_sc,y_train)"
   ]
  },
  {
   "cell_type": "code",
   "execution_count": 42,
   "metadata": {},
   "outputs": [
    {
     "name": "stdout",
     "output_type": "stream",
     "text": [
      "ROC_AUC score train:  0.8260732323232324\n",
      "ROC_AUC score test:  0.8260732323232324\n",
      "ROC_AUC score all:  0.7322212467076383\n",
      "accuracy for all:  0.7405405405405405\n",
      "Sensitivity for train:  0.696969696969697\n",
      "Sensitivity for test:  0.5555555555555556\n",
      "Sensitivity for all:  0.6274509803921569\n",
      "Specificity for train:  0.8854166666666666\n",
      "Specificity for test:  0.7368421052631579\n",
      "Specificity for all:  0.7835820895522388\n",
      "Confusion matrix\n",
      "[[28 10]\n",
      " [ 8 10]]\n"
     ]
    }
   ],
   "source": [
    "svc = SVC(C=10, kernel='rbf', class_weight='balanced', random_state=101, probability=True)\n",
    "cal_meth(svc,X_sc,X_train_sc,X_test_sc,y_train,y_test, 'SVC_inter')"
   ]
  },
  {
   "cell_type": "code",
   "execution_count": 43,
   "metadata": {},
   "outputs": [
    {
     "name": "stdout",
     "output_type": "stream",
     "text": [
      "ROC_AUC score train:  0.793560606060606\n",
      "ROC_AUC score test:  0.793560606060606\n",
      "ROC_AUC score all:  0.7863623061164764\n",
      "accuracy for all:  0.8108108108108109\n",
      "Sensitivity for train:  0.5454545454545454\n",
      "Sensitivity for test:  0.7222222222222222\n",
      "Sensitivity for all:  0.6078431372549019\n",
      "Specificity for train:  0.8645833333333334\n",
      "Specificity for test:  0.8157894736842105\n",
      "Specificity for all:  0.8880597014925373\n",
      "Confusion matrix\n",
      "[[31  7]\n",
      " [ 5 13]]\n"
     ]
    }
   ],
   "source": [
    "gnb_meth(X_sc, X_train_sc, X_test_sc, y_train, y_test, 'GBN_inter')"
   ]
  },
  {
   "cell_type": "markdown",
   "metadata": {},
   "source": [
    "# Conclusions:"
   ]
  },
  {
   "cell_type": "markdown",
   "metadata": {},
   "source": [
    "![title](../images/Results.png)"
   ]
  },
  {
   "cell_type": "code",
   "execution_count": null,
   "metadata": {},
   "outputs": [],
   "source": []
  }
 ],
 "metadata": {
  "colab": {
   "name": "Cópia de MLworflow.ipynb",
   "provenance": []
  },
  "kernelspec": {
   "display_name": "Python 3",
   "language": "python",
   "name": "python3"
  },
  "language_info": {
   "codemirror_mode": {
    "name": "ipython",
    "version": 3
   },
   "file_extension": ".py",
   "mimetype": "text/x-python",
   "name": "python",
   "nbconvert_exporter": "python",
   "pygments_lexer": "ipython3",
   "version": "3.6.9"
  }
 },
 "nbformat": 4,
 "nbformat_minor": 1
}
